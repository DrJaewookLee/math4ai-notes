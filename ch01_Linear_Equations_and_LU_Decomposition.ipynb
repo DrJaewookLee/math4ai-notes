{
  "cells": [
    {
      "cell_type": "markdown",
      "metadata": {
        "id": "IieqcGAINR1P"
      },
      "source": []
    },
    {
      "cell_type": "markdown",
      "metadata": {
        "id": "BAHHjGG5NR1R"
      },
      "source": [
        "# 1장 선형방정식과 LU분해 (Linear Equations and LU Decomposition)"
      ]
    },
    {
      "cell_type": "markdown",
      "metadata": {
        "id": "MLEu6iMnNR1R"
      },
      "source": [
        "## 1.1 Common imports & utilities"
      ]
    },
    {
      "cell_type": "code",
      "execution_count": 1,
      "metadata": {
        "id": "Mo_nLSstNR1S"
      },
      "outputs": [],
      "source": [
        "import numpy as np\n",
        "import matplotlib.pyplot as plt\n",
        "\n",
        "# SciPy (for the sparse-matrix demo; if missing, we’ll skip that section)\n",
        "try:\n",
        "    from scipy import sparse\n",
        "    SCIPY_AVAILABLE = True\n",
        "except Exception:\n",
        "    SCIPY_AVAILABLE = False\n",
        "\n",
        "# Reproducibility\n",
        "np.random.seed(7)\n",
        "\n",
        "# Pretty printing helpers\n",
        "def section(title):\n",
        "    print(\"\\n\" + \"=\" * 70)\n",
        "    print(title)\n",
        "    print(\"=\" * 70)\n",
        "\n",
        "def print_block(title, value):\n",
        "    print(f\"\\n-- {title} --\")\n",
        "    print(value)\n",
        "\n",
        "# 2D vector plot helper\n",
        "def plot_vector_2d(v, axes=(0, 6, 0, 6), title=\"2D Vector\"):\n",
        "    plt.figure()\n",
        "    plt.plot([0, v[0]], [0, v[1]], linewidth=2)\n",
        "    plt.scatter([0, v[0]], [0, v[1]])\n",
        "    plt.axis(\"square\")\n",
        "    plt.axis(axes)\n",
        "    plt.grid(True)\n",
        "    plt.title(title)\n",
        "    plt.show()\n"
      ]
    },
    {
      "cell_type": "markdown",
      "source": [
        "## 1.2 Environment info"
      ],
      "metadata": {
        "id": "PziQ-3wEYhx-"
      }
    },
    {
      "cell_type": "code",
      "execution_count": 2,
      "metadata": {
        "colab": {
          "base_uri": "https://localhost:8080/"
        },
        "id": "R70OkrRJNR1S",
        "outputId": "178e448a-4387-4f62-d413-65eb1bd2c02f"
      },
      "outputs": [
        {
          "output_type": "stream",
          "name": "stdout",
          "text": [
            "\n",
            "======================================================================\n",
            "Environment\n",
            "======================================================================\n",
            "\n",
            "-- NumPy version --\n",
            "2.0.2\n",
            "\n",
            "-- SciPy available (for sparse demo) --\n",
            "True\n"
          ]
        }
      ],
      "source": [
        "section(\"Environment\")\n",
        "print_block(\"NumPy version\", np.__version__)\n",
        "print_block(\"SciPy available (for sparse demo)\", SCIPY_AVAILABLE)\n"
      ]
    },
    {
      "cell_type": "markdown",
      "source": [
        "## 1.3 Creating vectors"
      ],
      "metadata": {
        "id": "hdaBL8pKZHOS"
      }
    },
    {
      "cell_type": "code",
      "execution_count": 4,
      "metadata": {
        "colab": {
          "base_uri": "https://localhost:8080/",
          "height": 1000
        },
        "id": "2Jdwqr8qNR1T",
        "outputId": "55e962de-f834-47c6-ca2a-344b7abac0d2"
      },
      "outputs": [
        {
          "output_type": "stream",
          "name": "stdout",
          "text": [
            "\n",
            "======================================================================\n",
            "Creating Vectors\n",
            "======================================================================\n"
          ]
        },
        {
          "output_type": "display_data",
          "data": {
            "text/plain": [
              "<Figure size 640x480 with 1 Axes>"
            ],
            "image/png": "[encoded data removed]"
          },
          "metadata": {}
        },
        {
          "output_type": "stream",
          "name": "stdout",
          "text": [
            "\n",
            "-- List --\n",
            "[2, 4, 6, 8]\n",
            "\n",
            "-- Array (np.ndarray) --\n",
            "[2 4 6 8]\n",
            "\n",
            "-- Row vector (1×4) --\n",
            "[[2 4 6 8]]\n",
            "\n",
            "-- Column vector (4×1) --\n",
            "[[2]\n",
            " [4]\n",
            " [6]\n",
            " [8]]\n",
            "\n",
            "-- v_row.T --\n",
            "[[2]\n",
            " [4]\n",
            " [6]\n",
            " [8]]\n",
            "\n",
            "-- v_array.T (no change for 1D) --\n",
            "[2 4 6 8]\n",
            "\n",
            "-- asarray(v_row) is v_row? --\n",
            "True\n",
            "\n",
            "-- array(v_row) is v_row? --\n",
            "False\n",
            "\n",
            "-- v_row.copy() is v_row? --\n",
            "False\n"
          ]
        }
      ],
      "source": [
        "section(\"Creating Vectors\")\n",
        "\n",
        "# Create and plot a 2D vector\n",
        "v = np.array([5.0, 3.5])\n",
        "plot_vector_2d(v, axes=(0, 6, 0, 6), title=\"Vector v = [5, 3.5]\")\n",
        "\n",
        "# List vs. array\n",
        "v_list = [2, 4, 6, 8]\n",
        "v_array = np.array([2, 4, 6, 8])\n",
        "print_block(\"List\", v_list)\n",
        "print_block(\"Array (np.ndarray)\", v_array)\n",
        "\n",
        "# Row/column vectors\n",
        "v_row = np.array([[2, 4, 6, 8]])\n",
        "v_col = np.array([[2], [4], [6], [8]])\n",
        "print_block(\"Row vector (1×4)\", v_row)\n",
        "print_block(\"Column vector (4×1)\", v_col)\n",
        "\n",
        "# Transpose: 1D arrays don’t change shape on .T\n",
        "print_block(\"v_row.T\", v_row.T)\n",
        "print_block(\"v_array.T (no change for 1D)\", v_array.T)\n",
        "\n",
        "# asarray / array / copy differences\n",
        "new_row1 = np.asarray(v_row)\n",
        "new_row2 = np.array(v_row)\n",
        "new_row3 = v_row.copy()\n",
        "print_block(\"asarray(v_row) is v_row?\", new_row1 is v_row)\n",
        "print_block(\"array(v_row) is v_row?\", new_row2 is v_row)\n",
        "print_block(\"v_row.copy() is v_row?\", new_row3 is v_row)\n"
      ]
    },
    {
      "cell_type": "markdown",
      "source": [
        "## 1.4 Vector combinations/products (linear combination, dot, outer, norm, broadcasting)"
      ],
      "metadata": {
        "id": "reuUQdeKZliW"
      }
    },
    {
      "cell_type": "code",
      "execution_count": 5,
      "metadata": {
        "colab": {
          "base_uri": "https://localhost:8080/"
        },
        "id": "O3EsFeGjNR1U",
        "outputId": "502ca992-4802-4f9e-ee16-238150ab562e"
      },
      "outputs": [
        {
          "output_type": "stream",
          "name": "stdout",
          "text": [
            "\n",
            "======================================================================\n",
            "1.2 Vector Operations\n",
            "======================================================================\n",
            "\n",
            "-- Linear combination v_lin --\n",
            "[ 5.  -3.5  8.5]\n",
            "\n",
            "-- v1[-1] (last element) --\n",
            "2\n",
            "\n",
            "-- v1[1:] (from 2nd to end) --\n",
            "[-1  2]\n",
            "\n",
            "-- v1[:2] (first two) --\n",
            "[ 3 -1]\n",
            "\n",
            "-- Dot product dot(v1, v2) --\n",
            "-5\n",
            "\n",
            "-- Outer product outer(v1, v2) --\n",
            "[[ 3 12 -6]\n",
            " [-1 -4  2]\n",
            " [ 2  8 -4]]\n",
            "\n",
            "-- Elementwise product v1 * v2 --\n",
            "[ 3 -4 -4]\n",
            "\n",
            "-- ||v1|| --\n",
            "3.7416573867739413\n",
            "\n",
            "-- Unit vector v1_unit --\n",
            "[ 0.80178373 -0.26726124  0.53452248]\n",
            "\n",
            "-- Average via dot product --\n",
            "6.5\n",
            "\n",
            "-- base + 100 --\n",
            "[110 120 130]\n",
            "\n",
            "-- base + [1, 2, 3] --\n",
            "[11 22 33]\n"
          ]
        }
      ],
      "source": [
        "section(\"Vector Operations\")\n",
        "\n",
        "v1 = np.array([3, -1, 2])\n",
        "v2 = np.array([1, 4, -2])\n",
        "v3 = np.array([0, 5, 5])\n",
        "coeff = np.array([2, -1, 0.5])   # coefficients for a linear combination\n",
        "\n",
        "# Linear combination\n",
        "v_lin = coeff[0]*v1 + coeff[1]*v2 + coeff[2]*v3\n",
        "print_block(\"Linear combination v_lin\", v_lin)\n",
        "\n",
        "# Slicing examples\n",
        "print_block(\"v1[-1] (last element)\", v1[-1])\n",
        "print_block(\"v1[1:] (from 2nd to end)\", v1[1:])\n",
        "print_block(\"v1[:2] (first two)\", v1[:2])\n",
        "\n",
        "# Dot / outer / elementwise (Hadamard) product\n",
        "v_dp = np.dot(v1, v2)\n",
        "v_op = np.outer(v1, v2)\n",
        "v_hadamard = v1 * v2\n",
        "print_block(\"Dot product dot(v1, v2)\", v_dp)\n",
        "print_block(\"Outer product outer(v1, v2)\", v_op)\n",
        "print_block(\"Elementwise product v1 * v2\", v_hadamard)\n",
        "\n",
        "# Norm and unit vector\n",
        "norm_v1 = np.linalg.norm(v1)\n",
        "v1_unit = v1 / norm_v1\n",
        "print_block(\"||v1||\", norm_v1)\n",
        "print_block(\"Unit vector v1_unit\", v1_unit)\n",
        "\n",
        "# Average via dot product\n",
        "values = np.array([12, 15, -3, 9, 0, 6])\n",
        "avg = np.dot(values, np.ones_like(values, dtype=float)) / len(values)\n",
        "print_block(\"Average via dot product\", avg)\n",
        "\n",
        "# Simple broadcasting examples\n",
        "base = np.array([10, 20, 30])\n",
        "print_block(\"base + 100\", base + 100)\n",
        "print_block(\"base + [1, 2, 3]\", base + np.array([1, 2, 3]))\n"
      ]
    },
    {
      "cell_type": "markdown",
      "source": [
        "## 1.5 Building matrices (identity/zeros/ones/diagonal/concatenate/triangular parts)"
      ],
      "metadata": {
        "id": "PFs0BjhOaIeO"
      }
    },
    {
      "cell_type": "code",
      "execution_count": 7,
      "metadata": {
        "colab": {
          "base_uri": "https://localhost:8080/"
        },
        "id": "2ytYwRqJNR1U",
        "outputId": "aff11ad2-7c6b-4a2d-9526-390d03ac6ed4"
      },
      "outputs": [
        {
          "output_type": "stream",
          "name": "stdout",
          "text": [
            "\n",
            "======================================================================\n",
            "Building Matrices\n",
            "======================================================================\n",
            "\n",
            "-- Identity I(4) --\n",
            "[[1. 0. 0. 0.]\n",
            " [0. 1. 0. 0.]\n",
            " [0. 0. 1. 0.]\n",
            " [0. 0. 0. 1.]]\n",
            "\n",
            "-- Zeros Z --\n",
            "[[0. 0. 0. 0.]\n",
            " [0. 0. 0. 0.]\n",
            " [0. 0. 0. 0.]\n",
            " [0. 0. 0. 0.]]\n",
            "\n",
            "-- Ones O --\n",
            "[[1. 1. 1. 1.]\n",
            " [1. 1. 1. 1.]\n",
            " [1. 1. 1. 1.]\n",
            " [1. 1. 1. 1.]]\n",
            "\n",
            "-- Diagonal D --\n",
            "[[ 2  0  0  0]\n",
            " [ 0 -3  0  0]\n",
            " [ 0  0  5  0]\n",
            " [ 0  0  0  1]]\n",
            "\n",
            "-- np.diag(R) (diagonal entries) --\n",
            "[ 0.26941163 -0.1323772  -0.36881847 -1.19359192]\n",
            "\n",
            "-- A (4×4) --\n",
            "[[-0.30019374 -1.17998209  1.49763912 -0.28263524]\n",
            " [ 0.10864837  1.43823952  1.50331852 -0.21273297]\n",
            " [ 0.33197422  0.73502658 -0.19285546 -1.77801285]\n",
            " [ 0.6547057   0.8943523   0.41550261 -0.92354466]]\n",
            "\n",
            "-- B (4×3) --\n",
            "[[-0.19602731 -0.59076982 -0.29971124]\n",
            " [ 1.29688519  1.52957963  0.66941819]\n",
            " [ 0.54874512  0.67662899 -0.01224219]\n",
            " [-0.07566346 -0.67364519 -0.05586745]]\n",
            "\n",
            "-- Column concatenation [A | B] (4×7) --\n",
            "[[-0.30019374 -1.17998209  1.49763912 -0.28263524 -0.19602731 -0.59076982\n",
            "  -0.29971124]\n",
            " [ 0.10864837  1.43823952  1.50331852 -0.21273297  1.29688519  1.52957963\n",
            "   0.66941819]\n",
            " [ 0.33197422  0.73502658 -0.19285546 -1.77801285  0.54874512  0.67662899\n",
            "  -0.01224219]\n",
            " [ 0.6547057   0.8943523   0.41550261 -0.92354466 -0.07566346 -0.67364519\n",
            "  -0.05586745]]\n",
            "\n",
            "-- Lower triangular np.tril(A) --\n",
            "[[-0.30019374  0.          0.          0.        ]\n",
            " [ 0.10864837  1.43823952  0.          0.        ]\n",
            " [ 0.33197422  0.73502658 -0.19285546  0.        ]\n",
            " [ 0.6547057   0.8943523   0.41550261 -0.92354466]]\n",
            "\n",
            "-- Upper triangular np.triu(A) --\n",
            "[[-0.30019374 -1.17998209  1.49763912 -0.28263524]\n",
            " [ 0.          1.43823952  1.50331852 -0.21273297]\n",
            " [ 0.          0.         -0.19285546 -1.77801285]\n",
            " [ 0.          0.          0.         -0.92354466]]\n"
          ]
        }
      ],
      "source": [
        "section(\"Building Matrices\")\n",
        "\n",
        "I = np.eye(4)\n",
        "Z = np.zeros((4, 4))\n",
        "O = np.ones((4, 4))\n",
        "D = np.diag([2, -3, 5, 1])  # diagonal matrix\n",
        "print_block(\"Identity I(4)\", I)\n",
        "print_block(\"Zeros Z\", Z)\n",
        "print_block(\"Ones O\", O)\n",
        "print_block(\"Diagonal D\", D)\n",
        "\n",
        "# Extract diagonal from a random matrix\n",
        "R = np.random.randn(4, 5)\n",
        "print_block(\"np.diag(R) (diagonal entries)\", np.diag(R))\n",
        "\n",
        "# Concatenate two matrices along columns\n",
        "A = np.random.randn(4, 4)\n",
        "B = np.random.randn(4, 3)\n",
        "AB = np.concatenate((A, B), axis=1)\n",
        "print_block(\"A (4×4)\", A)\n",
        "print_block(\"B (4×3)\", B)\n",
        "print_block(\"Column concatenation [A | B] (4×7)\", AB)\n",
        "\n",
        "# Lower/upper triangular parts\n",
        "LT = np.tril(A)\n",
        "UT = np.triu(A)\n",
        "print_block(\"Lower triangular np.tril(A)\", LT)\n",
        "print_block(\"Upper triangular np.triu(A)\", UT)\n"
      ]
    },
    {
      "cell_type": "markdown",
      "source": [
        "## 1.6 Matrix operations (shape/index/trace/arithmetic/broadcasting/high-dim matmul)"
      ],
      "metadata": {
        "id": "TJNo2uAIabu9"
      }
    },
    {
      "cell_type": "code",
      "execution_count": 9,
      "metadata": {
        "colab": {
          "base_uri": "https://localhost:8080/"
        },
        "id": "LxzPN_7ANR1U",
        "outputId": "b14e7ebe-10c7-4a6e-ddc4-5d35cce1fb95"
      },
      "outputs": [
        {
          "output_type": "stream",
          "name": "stdout",
          "text": [
            "\n",
            "======================================================================\n",
            "Matrix Operations\n",
            "======================================================================\n",
            "\n",
            "-- A.shape / A.size / A.ndim --\n",
            "((3, 3), 9, 2)\n",
            "\n",
            "-- A.flatten() --\n",
            "[ 3  1 -1  0  2  4  1 -3  5]\n",
            "\n",
            "-- A.reshape(-1) --\n",
            "[ 3  1 -1  0  2  4  1 -3  5]\n",
            "\n",
            "-- After A[0,0]=99 --\n",
            "[[99  1 -1]\n",
            " [ 0  2  4]\n",
            " [ 1 -3  5]]\n",
            "\n",
            "-- A_flat (copy, unchanged) --\n",
            "[ 3  1 -1  0  2  4  1 -3  5]\n",
            "\n",
            "-- A_view (view, may reflect changes) --\n",
            "[99  1 -1  0  2  4  1 -3  5]\n",
            "\n",
            "-- A[2,1] (row 3, col 2) --\n",
            "-3\n",
            "\n",
            "-- A[:2,:] (top 2 rows) --\n",
            "[[99  1 -1]\n",
            " [ 0  2  4]]\n",
            "\n",
            "-- A[:,1:2] (second column, keep 2D) --\n",
            "[[ 1]\n",
            " [ 2]\n",
            " [-3]]\n",
            "\n",
            "-- trace(A) --\n",
            "106\n",
            "\n",
            "-- trace(A, offset=1) (above main diagonal) --\n",
            "5\n",
            "\n",
            "-- trace(A, offset=-1) (below main diagonal) --\n",
            "-3\n",
            "\n",
            "-- np.max(A) --\n",
            "99\n",
            "\n",
            "-- np.max(A, axis=0) (column-wise max) --\n",
            "[99  2  5]\n",
            "\n",
            "-- np.max(A, axis=1) (row-wise max) --\n",
            "[99  4  5]\n",
            "\n",
            "-- A + B --\n",
            "[[101   0  -1]\n",
            " [  1   5   6]\n",
            " [ -1   1   6]]\n",
            "\n",
            "-- A - B --\n",
            "[[97  2 -1]\n",
            " [-1 -1  2]\n",
            " [ 3 -7  4]]\n",
            "\n",
            "-- A @ B (matrix product) --\n",
            "[[ 201 -100    1]\n",
            " [  -6   22    8]\n",
            " [ -11   10   -1]]\n",
            "\n",
            "-- np.matmul(A, B) --\n",
            "[[ 201 -100    1]\n",
            " [  -6   22    8]\n",
            " [ -11   10   -1]]\n",
            "\n",
            "-- A * B (Hadamard product) --\n",
            "[[198  -1   0]\n",
            " [  0   6   8]\n",
            " [ -2 -12   5]]\n",
            "\n",
            "-- vectorize(+5)(A) --\n",
            "[[104   6   4]\n",
            " [  5   7   9]\n",
            " [  6   2  10]]\n",
            "\n",
            "-- A + 5 (broadcasting) --\n",
            "[[104   6   4]\n",
            " [  5   7   9]\n",
            " [  6   2  10]]\n",
            "\n",
            "-- A + [10,20,30] (row-wise broadcasting) --\n",
            "[[109  21  29]\n",
            " [ 10  22  34]\n",
            " [ 11  17  35]]\n",
            "\n",
            "-- A + [[100],[200],[300]] (column-wise broadcasting) --\n",
            "[[199 101  99]\n",
            " [200 202 204]\n",
            " [301 297 305]]\n",
            "\n",
            "-- np.matmul(TA, TB).shape --\n",
            "(3, 5, 2, 3)\n"
          ]
        }
      ],
      "source": [
        "section(\"Matrix Operations\")\n",
        "\n",
        "A = np.array([[ 3,  1, -1],\n",
        "              [ 0,  2,  4],\n",
        "              [ 1, -3,  5]])\n",
        "B = np.array([[ 2, -1,  0],\n",
        "              [ 1,  3,  2],\n",
        "              [-2,  4,  1]])\n",
        "\n",
        "print_block(\"A.shape / A.size / A.ndim\", (A.shape, A.size, A.ndim))\n",
        "\n",
        "# flatten (copy) vs reshape to 1D (often a view)\n",
        "A_flat = A.flatten()     # copy\n",
        "A_view = A.reshape(-1)   # often a view\n",
        "print_block(\"A.flatten()\", A_flat)\n",
        "print_block(\"A.reshape(-1)\", A_view)\n",
        "\n",
        "# Modifying the original may affect the view\n",
        "A[0, 0] = 99\n",
        "print_block(\"After A[0,0]=99\", A)\n",
        "print_block(\"A_flat (copy, unchanged)\", A_flat)\n",
        "print_block(\"A_view (view, may reflect changes)\", A_view)\n",
        "\n",
        "# Indexing/slicing\n",
        "print_block(\"A[2,1] (row 3, col 2)\", A[2, 1])\n",
        "print_block(\"A[:2,:] (top 2 rows)\", A[:2, :])\n",
        "print_block(\"A[:,1:2] (second column, keep 2D)\", A[:, 1:2])\n",
        "\n",
        "# Trace and offset traces\n",
        "print_block(\"trace(A)\", np.trace(A))\n",
        "print_block(\"trace(A, offset=1) (above main diagonal)\", np.trace(A, offset=1))\n",
        "print_block(\"trace(A, offset=-1) (below main diagonal)\", np.trace(A, offset=-1))\n",
        "\n",
        "# Reductions by axis\n",
        "print_block(\"np.max(A)\", np.max(A))\n",
        "print_block(\"np.max(A, axis=0) (column-wise max)\", np.max(A, axis=0))\n",
        "print_block(\"np.max(A, axis=1) (row-wise max)\", np.max(A, axis=1))\n",
        "\n",
        "# Arithmetic\n",
        "print_block(\"A + B\", A + B)\n",
        "print_block(\"A - B\", A - B)\n",
        "print_block(\"A @ B (matrix product)\", A @ B)\n",
        "print_block(\"np.matmul(A, B)\", np.matmul(A, B))\n",
        "print_block(\"A * B (Hadamard product)\", A * B)\n",
        "\n",
        "# Vectorize vs broadcasting\n",
        "add_5 = np.vectorize(lambda x: x + 5)\n",
        "print_block(\"vectorize(+5)(A)\", add_5(A))\n",
        "print_block(\"A + 5 (broadcasting)\", A + 5)\n",
        "\n",
        "# Broadcasting (row/column)\n",
        "print_block(\"A + [10,20,30] (row-wise broadcasting)\", A + np.array([10, 20, 30]))\n",
        "print_block(\"A + [[100],[200],[300]] (column-wise broadcasting)\", A + np.array([[100], [200], [300]]))\n",
        "\n",
        "# High-dimensional matmul with batch broadcasting\n",
        "TA = np.random.rand(3, 1, 2, 4)  # (3,1,2,4)\n",
        "TB = np.random.rand(1, 5, 4, 3)  # (1,5,4,3)\n",
        "print_block(\"np.matmul(TA, TB).shape\", np.matmul(TA, TB).shape)  # (3,5,2,3)\n"
      ]
    },
    {
      "cell_type": "markdown",
      "source": [
        "## 1.7 Building sparse matrices (CSR) *SciPy required"
      ],
      "metadata": {
        "id": "rNGOHJwvapqI"
      }
    },
    {
      "cell_type": "code",
      "execution_count": 11,
      "metadata": {
        "colab": {
          "base_uri": "https://localhost:8080/"
        },
        "id": "VVzRPJLKNR1V",
        "outputId": "bf1717de-719b-4473-987c-92f9aedec3db"
      },
      "outputs": [
        {
          "output_type": "stream",
          "name": "stdout",
          "text": [
            "\n",
            "======================================================================\n",
            "1.7 Building Sparse Matrices (CSR)\n",
            "======================================================================\n",
            "\n",
            "-- CSR representation --\n",
            "<Compressed Sparse Row sparse matrix of dtype 'int64'\n",
            "\twith 5 stored elements and shape (4, 5)>\n",
            "  Coords\tValues\n",
            "  (0, 2)\t7\n",
            "  (1, 1)\t5\n",
            "  (1, 4)\t1\n",
            "  (2, 0)\t4\n",
            "  (3, 2)\t2\n",
            "\n",
            "-- csr.toarray() --\n",
            "[[0 0 7 0 0]\n",
            " [0 5 0 0 1]\n",
            " [4 0 0 0 0]\n",
            " [0 0 2 0 0]]\n",
            "\n",
            "-- Large CSR matrix --\n",
            "<Compressed Sparse Row sparse matrix of dtype 'float64'\n",
            "\twith 4 stored elements and shape (6, 10)>\n",
            "  Coords\tValues\n",
            "  (0, 3)\t9.0\n",
            "  (2, 0)\t-1.0\n",
            "  (4, 4)\t3.3\n",
            "  (5, 9)\t2.5\n",
            "\n",
            "-- Large CSR toarray() --\n",
            "[[ 0.   0.   0.   9.   0.   0.   0.   0.   0.   0. ]\n",
            " [ 0.   0.   0.   0.   0.   0.   0.   0.   0.   0. ]\n",
            " [-1.   0.   0.   0.   0.   0.   0.   0.   0.   0. ]\n",
            " [ 0.   0.   0.   0.   0.   0.   0.   0.   0.   0. ]\n",
            " [ 0.   0.   0.   0.   3.3  0.   0.   0.   0.   0. ]\n",
            " [ 0.   0.   0.   0.   0.   0.   0.   0.   0.   2.5]]\n"
          ]
        }
      ],
      "source": [
        "section(\"1.7 Building Sparse Matrices (CSR)\")\n",
        "\n",
        "if SCIPY_AVAILABLE:\n",
        "    mat = np.array([\n",
        "        [0, 0, 7, 0, 0],\n",
        "        [0, 5, 0, 0, 1],\n",
        "        [4, 0, 0, 0, 0],\n",
        "        [0, 0, 2, 0, 0],\n",
        "    ])\n",
        "    csr = sparse.csr_matrix(mat)\n",
        "    print_block(\"CSR representation\", csr)\n",
        "    print_block(\"csr.toarray()\", csr.toarray())\n",
        "\n",
        "    # Bigger sparse matrix example\n",
        "    big = np.zeros((6, 10))\n",
        "    big[0, 3] = 9\n",
        "    big[2, 0] = -1\n",
        "    big[5, 9] = 2.5\n",
        "    big[4, 4] = 3.3\n",
        "    csr_big = sparse.csr_matrix(big)\n",
        "    print_block(\"Large CSR matrix\", csr_big)\n",
        "    print_block(\"Large CSR toarray()\", csr_big.toarray())\n",
        "else:\n",
        "    print(\"SciPy not available — skipping the CSR sparse-matrix demo.\")\n"
      ]
    }
  ],
  "metadata": {
    "kernelspec": {
      "display_name": "Python 3",
      "language": "python",
      "name": "python3"
    },
    "language_info": {
      "codemirror_mode": {
        "name": "ipython",
        "version": 3
      },
      "file_extension": ".py",
      "mimetype": "text/x-python",
      "name": "python",
      "nbconvert_exporter": "python",
      "pygments_lexer": "ipython3",
      "version": "3.8.8"
    },
    "colab": {
      "provenance": []
    }
  },
  "nbformat": 4,
  "nbformat_minor": 0
}