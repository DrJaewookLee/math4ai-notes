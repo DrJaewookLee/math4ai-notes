{
  "cells": [
    {
      "cell_type": "markdown",
      "metadata": {
        "id": "IieqcGAINR1P"
      },
      "source": []
    },
    {
      "cell_type": "markdown",
      "metadata": {
        "id": "BAHHjGG5NR1R"
      },
      "source": [
        "# Ch1 Linear Equations and LU Decomposition"
      ]
    },
    {
      "cell_type": "markdown",
      "metadata": {},
      "source": [
        "<a target=\"_blank\" href=\"https://colab.research.google.com/github/DrJaewookLee/math4ai-notes/blob/main/Notebooks/ch01_Linear_Equations_and_LU_Decomposition.ipynb\">\n",
        "  <img src=\"https://colab.research.google.com/assets/colab-badge.svg\" alt=\"Open In Colab\"/>\n",
        "</a>"
      ]
    },
    {
      "cell_type": "markdown",
      "metadata": {
        "id": "MLEu6iMnNR1R"
      },
      "source": [
        "## 1.1 Vector and Matrices"
      ]
    },
    {
      "cell_type": "code",
      "execution_count": 106,
      "metadata": {},
      "outputs": [],
      "source": [
        "# Import library\n",
        "import numpy as np\n",
        "import matplotlib.pyplot as plt\n",
        "from scipy import linalg"
      ]
    },
    {
      "cell_type": "code",
      "execution_count": 107,
      "metadata": {},
      "outputs": [
        {
          "name": "stdout",
          "output_type": "stream",
          "text": [
            "NumPy version 2.0.2\n",
            "SciPy available (for sparse demo) True\n"
          ]
        }
      ],
      "source": [
        "# Environment information\n",
        "try:\n",
        "    from scipy import sparse\n",
        "    SCIPY_AVAILABLE = True\n",
        "except Exception:\n",
        "    SCIPY_AVAILABLE = False\n",
        "\n",
        "print(\"NumPy version\", np.__version__)\n",
        "print(\"SciPy available (for sparse demo)\", SCIPY_AVAILABLE)"
      ]
    },
    {
      "cell_type": "markdown",
      "metadata": {},
      "source": [
        "### 1.1.1 Vector and Matrices"
      ]
    },
    {
      "cell_type": "code",
      "execution_count": 108,
      "metadata": {},
      "outputs": [
        {
          "data": {
            "image/png": "[encoded data removed]",
            "text/plain": [
              "<Figure size 640x480 with 1 Axes>"
            ]
          },
          "metadata": {},
          "output_type": "display_data"
        }
      ],
      "source": [
        "# Create and plot a 2D vector\n",
        "v = np.array([4,4.5])\n",
        "\n",
        "plt.plot([0,v[0]],[0,v[1]])\n",
        "plt.axis('square')\n",
        "plt.axis([0,5,0,5])\n",
        "plt.grid('on')\n",
        "plt.show()"
      ]
    },
    {
      "cell_type": "code",
      "execution_count": 109,
      "metadata": {},
      "outputs": [
        {
          "name": "stdout",
          "output_type": "stream",
          "text": [
            "[2, 4, 6, 8]\n",
            "[2 4 6 8]\n"
          ]
        }
      ],
      "source": [
        "# List vs. array\n",
        "v_list = [2, 4, 6, 8]\n",
        "v_array = np.array([2, 4, 6, 8])\n",
        "\n",
        "print(v_list)\n",
        "print(v_array)"
      ]
    },
    {
      "cell_type": "code",
      "execution_count": 110,
      "metadata": {},
      "outputs": [
        {
          "name": "stdout",
          "output_type": "stream",
          "text": [
            "[[2 4 6 8]]\n",
            "[[2]\n",
            " [4]\n",
            " [6]\n",
            " [8]]\n"
          ]
        }
      ],
      "source": [
        "# Row/column vectors\n",
        "v_row = np.array([[2, 4, 6, 8]])\n",
        "v_col = np.array([[2], [4], [6], [8]])\n",
        "\n",
        "print(v_row)\n",
        "print(v_col)"
      ]
    },
    {
      "cell_type": "code",
      "execution_count": 111,
      "metadata": {},
      "outputs": [
        {
          "name": "stdout",
          "output_type": "stream",
          "text": [
            "[[2]\n",
            " [4]\n",
            " [6]\n",
            " [8]]\n",
            "[2 4 6 8]\n"
          ]
        }
      ],
      "source": [
        "# Transpose: 1D arrays\n",
        "print(v_row.T)\n",
        "print(v_array.T)"
      ]
    },
    {
      "cell_type": "code",
      "execution_count": 113,
      "metadata": {},
      "outputs": [
        {
          "name": "stdout",
          "output_type": "stream",
          "text": [
            "[[1. 0. 0. 0.]\n",
            " [0. 1. 0. 0.]\n",
            " [0. 0. 1. 0.]\n",
            " [0. 0. 0. 1.]]\n"
          ]
        }
      ],
      "source": [
        "# Identity matrix\n",
        "I = np.eye(4)\n",
        "print(I)"
      ]
    },
    {
      "cell_type": "code",
      "execution_count": 114,
      "metadata": {},
      "outputs": [
        {
          "name": "stdout",
          "output_type": "stream",
          "text": [
            "[[1. 1. 1. 1.]\n",
            " [1. 1. 1. 1.]\n",
            " [1. 1. 1. 1.]\n",
            " [1. 1. 1. 1.]]\n"
          ]
        }
      ],
      "source": [
        "# Ones matrix\n",
        "O = np.ones((4, 4))\n",
        "print(O)"
      ]
    },
    {
      "cell_type": "code",
      "execution_count": 115,
      "metadata": {},
      "outputs": [
        {
          "name": "stdout",
          "output_type": "stream",
          "text": [
            "[[0. 0. 0. 0.]\n",
            " [0. 0. 0. 0.]\n",
            " [0. 0. 0. 0.]\n",
            " [0. 0. 0. 0.]]\n"
          ]
        }
      ],
      "source": [
        "# Zero matrix\n",
        "Z = np.zeros((4, 4)) \n",
        "print(Z)"
      ]
    },
    {
      "cell_type": "code",
      "execution_count": 116,
      "metadata": {},
      "outputs": [
        {
          "name": "stdout",
          "output_type": "stream",
          "text": [
            "[[ 2  0  0  0]\n",
            " [ 0 -3  0  0]\n",
            " [ 0  0  5  0]\n",
            " [ 0  0  0  1]]\n"
          ]
        }
      ],
      "source": [
        "# Diagonal matrix\n",
        "D = np.diag([2, -3, 5, 1])\n",
        "print(D)"
      ]
    },
    {
      "cell_type": "code",
      "execution_count": 117,
      "metadata": {},
      "outputs": [
        {
          "name": "stdout",
          "output_type": "stream",
          "text": [
            "[-2.55298982  0.04575852 -0.88778575 -0.38732682]\n"
          ]
        }
      ],
      "source": [
        "# Extract diagonal from a random matrix\n",
        "R = np.random.randn(4, 5)\n",
        "print(np.diag(R))"
      ]
    },
    {
      "cell_type": "code",
      "execution_count": 118,
      "metadata": {},
      "outputs": [
        {
          "name": "stdout",
          "output_type": "stream",
          "text": [
            "[[-1.04855297 -1.42001794 -1.70627019  1.9507754 ]\n",
            " [-0.50965218 -0.4380743  -1.25279536  0.77749036]\n",
            " [-1.61389785 -0.21274028 -0.89546656  0.3869025 ]\n",
            " [-0.51080514 -1.18063218 -0.02818223  0.42833187]]\n"
          ]
        }
      ],
      "source": [
        "# Two matrices\n",
        "A = np.random.randn(4, 4)\n",
        "print(A)"
      ]
    },
    {
      "cell_type": "code",
      "execution_count": 119,
      "metadata": {},
      "outputs": [
        {
          "name": "stdout",
          "output_type": "stream",
          "text": [
            "[[ 0.06651722  0.3024719  -0.63432209]\n",
            " [-0.36274117 -0.67246045 -0.35955316]\n",
            " [-0.81314628 -1.7262826   0.17742614]\n",
            " [-0.40178094 -1.63019835  0.46278226]]\n"
          ]
        }
      ],
      "source": [
        "B = np.random.randn(4, 3)\n",
        "print(B)"
      ]
    },
    {
      "cell_type": "code",
      "execution_count": 120,
      "metadata": {},
      "outputs": [
        {
          "name": "stdout",
          "output_type": "stream",
          "text": [
            "[[-1.04855297 -1.42001794 -1.70627019  1.9507754   0.06651722  0.3024719  -0.63432209]\n",
            " [-0.50965218 -0.4380743  -1.25279536  0.77749036 -0.36274117 -0.67246045 -0.35955316]\n",
            " [-1.61389785 -0.21274028 -0.89546656  0.3869025  -0.81314628 -1.7262826   0.17742614]\n",
            " [-0.51080514 -1.18063218 -0.02818223  0.42833187 -0.40178094 -1.63019835  0.46278226]]\n"
          ]
        }
      ],
      "source": [
        "# Concatenate two matrices along columns\n",
        "AB = np.concatenate((A, B), axis=1)\n",
        "print(AB)"
      ]
    },
    {
      "cell_type": "code",
      "execution_count": 121,
      "metadata": {},
      "outputs": [
        {
          "name": "stdout",
          "output_type": "stream",
          "text": [
            "[[-1.04855297  0.          0.          0.        ]\n",
            " [-0.50965218 -0.4380743   0.          0.        ]\n",
            " [-1.61389785 -0.21274028 -0.89546656  0.        ]\n",
            " [-0.51080514 -1.18063218 -0.02818223  0.42833187]]\n"
          ]
        }
      ],
      "source": [
        "# Extract the lower triangle\n",
        "LT = np.tril(A)\n",
        "print(LT)"
      ]
    },
    {
      "cell_type": "code",
      "execution_count": 122,
      "metadata": {},
      "outputs": [
        {
          "name": "stdout",
          "output_type": "stream",
          "text": [
            "[[-1.04855297 -1.42001794 -1.70627019  1.9507754 ]\n",
            " [ 0.         -0.4380743  -1.25279536  0.77749036]\n",
            " [ 0.          0.         -0.89546656  0.3869025 ]\n",
            " [ 0.          0.          0.          0.42833187]]\n"
          ]
        }
      ],
      "source": [
        "# Extract the upper triangle\n",
        "UT = np.triu(A)\n",
        "print(UT)"
      ]
    },
    {
      "cell_type": "markdown",
      "metadata": {
        "id": "reuUQdeKZliW"
      },
      "source": [
        "### 1.1.2 Matrix Multiplication"
      ]
    },
    {
      "cell_type": "code",
      "execution_count": 69,
      "metadata": {},
      "outputs": [],
      "source": [
        "# Import library\n",
        "import numpy as np"
      ]
    },
    {
      "cell_type": "code",
      "execution_count": 123,
      "metadata": {},
      "outputs": [
        {
          "name": "stdout",
          "output_type": "stream",
          "text": [
            "(Shape, Size, Ndim): ((3, 3), 9, 2)\n"
          ]
        }
      ],
      "source": [
        "# Matrices\n",
        "A = np.array([[ 3,  1, -1],\n",
        "              [ 0,  2,  4],\n",
        "              [ 1, -3,  5]])\n",
        "B = np.array([[ 2, -1,  0],\n",
        "              [ 1,  3,  2],\n",
        "              [-2,  4,  1]])\n",
        "\n",
        "print(\"(Shape, Size, Ndim):\", (A.shape, A.size, A.ndim))"
      ]
    },
    {
      "cell_type": "code",
      "execution_count": 124,
      "metadata": {},
      "outputs": [
        {
          "data": {
            "text/plain": [
              "array([[ 3,  1, -1],\n",
              "       [ 0,  2,  4],\n",
              "       [ 1, -3,  5]])"
            ]
          },
          "execution_count": 124,
          "metadata": {},
          "output_type": "execute_result"
        }
      ],
      "source": [
        "# Reshape to 3x3 matrix\n",
        "A.reshape(3,3)"
      ]
    },
    {
      "cell_type": "code",
      "execution_count": 125,
      "metadata": {},
      "outputs": [
        {
          "name": "stdout",
          "output_type": "stream",
          "text": [
            "[ 3  1 -1  0  2  4  1 -3  5]\n"
          ]
        }
      ],
      "source": [
        "# Flatten to 1D\n",
        "A_flat = A.flatten()\n",
        "print(A_flat)"
      ]
    },
    {
      "cell_type": "code",
      "execution_count": 126,
      "metadata": {},
      "outputs": [
        {
          "name": "stdout",
          "output_type": "stream",
          "text": [
            "[ 3  1 -1  0  2  4  1 -3  5]\n"
          ]
        }
      ],
      "source": [
        "# Reshape to 1D\n",
        "A_reshaped = A.reshape(-1)\n",
        "print(A_reshaped)"
      ]
    },
    {
      "cell_type": "code",
      "execution_count": 127,
      "metadata": {},
      "outputs": [
        {
          "data": {
            "text/plain": [
              "array([ 7,  1, -1,  0,  2,  4,  1, -3,  5])"
            ]
          },
          "execution_count": 127,
          "metadata": {},
          "output_type": "execute_result"
        }
      ],
      "source": [
        "# Change the element at position (0, 0)\n",
        "A[0][0] = 7\n",
        "\n",
        "A_reshaped # reshaped reflects the changes made to the original array"
      ]
    },
    {
      "cell_type": "code",
      "execution_count": 128,
      "metadata": {},
      "outputs": [
        {
          "name": "stdout",
          "output_type": "stream",
          "text": [
            "(Row 3, col 2): -3\n",
            "Top 2 rows: \n",
            " [[ 7  1 -1]\n",
            " [ 0  2  4]]\n",
            "Second column: \n",
            " [[ 1]\n",
            " [ 2]\n",
            " [-3]]\n"
          ]
        }
      ],
      "source": [
        "# Indexing/slicing\n",
        "print(\"(Row 3, col 2):\", A[2, 1])\n",
        "print(\"Top 2 rows:\", \"\\n\", A[:2, :])\n",
        "print(\"Second column:\",\"\\n\", A[:, 1:2])"
      ]
    },
    {
      "cell_type": "code",
      "execution_count": 129,
      "metadata": {},
      "outputs": [
        {
          "name": "stdout",
          "output_type": "stream",
          "text": [
            "14\n",
            "14\n",
            "14\n"
          ]
        }
      ],
      "source": [
        "# Trace\n",
        "print(np.trace(A))\n",
        "print(A.trace())\n",
        "print(sum(A.diagonal()))"
      ]
    },
    {
      "cell_type": "code",
      "execution_count": 130,
      "metadata": {},
      "outputs": [
        {
          "name": "stdout",
          "output_type": "stream",
          "text": [
            "5\n",
            "-3\n"
          ]
        }
      ],
      "source": [
        "# Offset traces\n",
        "print(np.trace(A, offset=1)) #above main diagonal\n",
        "print(np.trace(A, offset=-1)) #below main diagonal"
      ]
    },
    {
      "cell_type": "code",
      "execution_count": 131,
      "metadata": {},
      "outputs": [
        {
          "name": "stdout",
          "output_type": "stream",
          "text": [
            "7\n",
            "[7 2 5]\n",
            "[7 4 5]\n"
          ]
        }
      ],
      "source": [
        "# Max element\n",
        "print(np.max(A)) # maximum element in the whole array\n",
        "print(np.max(A, axis=0)) # maximum of each column\n",
        "print(np.max(A, axis=1)) # maximum of each row"
      ]
    },
    {
      "cell_type": "code",
      "execution_count": 132,
      "metadata": {},
      "outputs": [
        {
          "name": "stdout",
          "output_type": "stream",
          "text": [
            "[[ 9  0 -1]\n",
            " [ 1  5  6]\n",
            " [-1  1  6]]\n"
          ]
        }
      ],
      "source": [
        "# Sum\n",
        "print(A + B)"
      ]
    },
    {
      "cell_type": "code",
      "execution_count": 133,
      "metadata": {},
      "outputs": [
        {
          "name": "stdout",
          "output_type": "stream",
          "text": [
            "[[ 5  2 -1]\n",
            " [-1 -1  2]\n",
            " [ 3 -7  4]]\n"
          ]
        }
      ],
      "source": [
        "# Subtract\n",
        "print(A - B)"
      ]
    },
    {
      "cell_type": "code",
      "execution_count": 134,
      "metadata": {},
      "outputs": [
        {
          "name": "stdout",
          "output_type": "stream",
          "text": [
            "[[ 17  -8   1]\n",
            " [ -6  22   8]\n",
            " [-11  10  -1]]\n",
            "[[ 17  -8   1]\n",
            " [ -6  22   8]\n",
            " [-11  10  -1]]\n"
          ]
        }
      ],
      "source": [
        "# Matrix product\n",
        "print(A @ B)\n",
        "print(np.matmul(A, B))"
      ]
    },
    {
      "cell_type": "code",
      "execution_count": 135,
      "metadata": {},
      "outputs": [
        {
          "name": "stdout",
          "output_type": "stream",
          "text": [
            "[[ 14  -1   0]\n",
            " [  0   6   8]\n",
            " [ -2 -12   5]]\n"
          ]
        }
      ],
      "source": [
        "# Hadamard product\n",
        "print(A*B)"
      ]
    },
    {
      "cell_type": "code",
      "execution_count": 137,
      "metadata": {},
      "outputs": [
        {
          "name": "stdout",
          "output_type": "stream",
          "text": [
            "[[12  6  4]\n",
            " [ 5  7  9]\n",
            " [ 6  2 10]]\n"
          ]
        }
      ],
      "source": [
        "# Vectorize vs Broadcasting\n",
        "\n",
        "# Define add 5 function\n",
        "add_5 = lambda i: i+5\n",
        "\n",
        "# Vectorized function\n",
        "vectorized_add_5 = np.vectorize(add_5)\n",
        "print(vectorized_add_5(A))"
      ]
    },
    {
      "cell_type": "code",
      "execution_count": 138,
      "metadata": {},
      "outputs": [
        {
          "name": "stdout",
          "output_type": "stream",
          "text": [
            "[[12  6  4]\n",
            " [ 5  7  9]\n",
            " [ 6  2 10]]\n"
          ]
        }
      ],
      "source": [
        "# Broadcasting\n",
        "print(A + 5)"
      ]
    },
    {
      "cell_type": "code",
      "execution_count": 139,
      "metadata": {},
      "outputs": [
        {
          "name": "stdout",
          "output_type": "stream",
          "text": [
            "[[17 21 29]\n",
            " [10 22 34]\n",
            " [11 17 35]]\n"
          ]
        }
      ],
      "source": [
        "# Broadcasting (row)\n",
        "print(A + np.array([10, 20, 30]))"
      ]
    },
    {
      "cell_type": "code",
      "execution_count": 140,
      "metadata": {},
      "outputs": [
        {
          "name": "stdout",
          "output_type": "stream",
          "text": [
            "[[100]\n",
            " [200]\n",
            " [300]]\n"
          ]
        }
      ],
      "source": [
        "# Broadcasting (column)\n",
        "print(np.array([[100], [200], [300]]))"
      ]
    },
    {
      "cell_type": "code",
      "execution_count": 141,
      "metadata": {},
      "outputs": [
        {
          "name": "stdout",
          "output_type": "stream",
          "text": [
            "(3, 5, 2, 3)\n"
          ]
        }
      ],
      "source": [
        "# High-dimensional matmul with batch broadcasting\n",
        "TA = np.random.rand(3, 1, 2, 4) \n",
        "TB = np.random.rand(1, 5, 4, 3)\n",
        "print(np.matmul(TA, TB).shape)"
      ]
    },
    {
      "cell_type": "code",
      "execution_count": 142,
      "metadata": {},
      "outputs": [
        {
          "name": "stdout",
          "output_type": "stream",
          "text": [
            "[ 5.  -3.5  8.5]\n"
          ]
        }
      ],
      "source": [
        "# Vectors\n",
        "v1 = np.array([3, -1, 2])\n",
        "v2 = np.array([1, 4, -2])\n",
        "v3 = np.array([0, 5, 5])\n",
        "\n",
        "# Scalars\n",
        "coeff = np.array([2, -1, 0.5])\n",
        "\n",
        "# Linear combination\n",
        "v_lin = coeff[0]*v1 + coeff[1]*v2 + coeff[2]*v3\n",
        "print(v_lin)\n"
      ]
    },
    {
      "cell_type": "code",
      "execution_count": 143,
      "metadata": {},
      "outputs": [
        {
          "name": "stdout",
          "output_type": "stream",
          "text": [
            "Last element 2\n",
            "From 2nd to end [-1  2]\n",
            "First two [ 3 -1]\n"
          ]
        }
      ],
      "source": [
        "# Slicing examples\n",
        "print(\"Last element\", v1[-1])\n",
        "print(\"From 2nd to end\", v1[1:])\n",
        "print(\"First two\", v1[:2])"
      ]
    },
    {
      "cell_type": "code",
      "execution_count": 146,
      "metadata": {},
      "outputs": [
        {
          "name": "stdout",
          "output_type": "stream",
          "text": [
            "Dot product: -5\n",
            "Outer product: \n",
            " [[ 3 12 -6]\n",
            " [-1 -4  2]\n",
            " [ 2  8 -4]]\n",
            "Elementwise product: [ 3 -4 -4]\n"
          ]
        }
      ],
      "source": [
        "# Dot / outer / elementwise (Hadamard) product\n",
        "v_dp = np.dot(v1, v2)\n",
        "v_op = np.outer(v1, v2)\n",
        "v_hadamard = v1 * v2\n",
        "print(\"Dot product:\", v_dp)\n",
        "print(\"Outer product:\", \"\\n\", v_op)\n",
        "print(\"Elementwise product:\", v_hadamard)"
      ]
    },
    {
      "cell_type": "code",
      "execution_count": 147,
      "metadata": {
        "colab": {
          "base_uri": "https://localhost:8080/"
        },
        "id": "O3EsFeGjNR1U",
        "outputId": "502ca992-4802-4f9e-ee16-238150ab562e"
      },
      "outputs": [
        {
          "name": "stdout",
          "output_type": "stream",
          "text": [
            "3.7416573867739413\n",
            "[ 0.80178373 -0.26726124  0.53452248]\n"
          ]
        }
      ],
      "source": [
        "# Norm\n",
        "norm_v1 = np.linalg.norm(v1)\n",
        "print(norm_v1)\n",
        "\n",
        "# Unit Vector\n",
        "v1_unit = v1 / norm_v1\n",
        "print(v1_unit)"
      ]
    },
    {
      "cell_type": "code",
      "execution_count": 148,
      "metadata": {},
      "outputs": [
        {
          "name": "stdout",
          "output_type": "stream",
          "text": [
            "6.5\n"
          ]
        }
      ],
      "source": [
        "# Average via dot product\n",
        "values = np.array([12, 15, -3, 9, 0, 6])\n",
        "avg = np.dot(values, np.ones_like(values, dtype=float)) / len(values)\n",
        "print(avg)"
      ]
    },
    {
      "cell_type": "code",
      "execution_count": 149,
      "metadata": {},
      "outputs": [
        {
          "name": "stdout",
          "output_type": "stream",
          "text": [
            "[110 120 130]\n",
            "[11 22 33]\n"
          ]
        }
      ],
      "source": [
        "# Simple broadcasting examples\n",
        "base = np.array([10, 20, 30])\n",
        "print(base + 100)\n",
        "print(base + np.array([1, 2, 3]))"
      ]
    },
    {
      "cell_type": "markdown",
      "metadata": {
        "id": "rNGOHJwvapqI"
      },
      "source": [
        "## 1.2 LU Decomposition"
      ]
    },
    {
      "cell_type": "markdown",
      "metadata": {},
      "source": [
        "### 1.2.1 Gaussian Elimination"
      ]
    },
    {
      "cell_type": "code",
      "execution_count": 150,
      "metadata": {},
      "outputs": [],
      "source": [
        "# import library\n",
        "import numpy as np\n",
        "np.set_printoptions(suppress=True, linewidth=120)"
      ]
    },
    {
      "cell_type": "code",
      "execution_count": 151,
      "metadata": {},
      "outputs": [],
      "source": [
        "# Gaussian elimination to U\n",
        "\n",
        "# Define back substitution function\n",
        "def back_sub(U, y):\n",
        "    n = U.shape[0]\n",
        "    x = np.zeros_like(y, dtype=float)\n",
        "    for i in range(n-1, -1, -1):\n",
        "        x[i] = (y[i] - U[i,i+1:] @ x[i+1:]) / U[i,i]\n",
        "    return x"
      ]
    },
    {
      "cell_type": "code",
      "execution_count": 152,
      "metadata": {},
      "outputs": [],
      "source": [
        "# Define linear equation\n",
        "A = np.array([[ 1.,  2.,  1.],\n",
        "              [ 2., -1.,  1.],\n",
        "              [ 3.,  1., -1.]], dtype=float)\n",
        "b = np.array([5., 0., 2.], dtype=float)\n",
        "\n",
        "U = A.copy(); rhs = b.copy()\n",
        "n = A.shape[0]"
      ]
    },
    {
      "cell_type": "code",
      "execution_count": 153,
      "metadata": {},
      "outputs": [
        {
          "name": "stdout",
          "output_type": "stream",
          "text": [
            "Upper triangular form: \n",
            " [[ 1.  2.  1.]\n",
            " [ 0. -5. -1.]\n",
            " [ 0.  0. -3.]]\n",
            "Transformed Right Hand Side: [  5. -10.  -3.]\n",
            "Solution: [0.4 1.8 1. ]\n"
          ]
        }
      ],
      "source": [
        "# Solve linear equation\n",
        "\n",
        "# Forward elimiination\n",
        "for k in range(n-1):\n",
        "    for i in range(k+1, n):\n",
        "        m = U[i,k] / U[k,k]\n",
        "        U[i,k:] -= m * U[k,k:]\n",
        "        rhs[i]  -= m * rhs[k]\n",
        "\n",
        "# Back substitution\n",
        "x = back_sub(U, rhs)                  \n",
        "\n",
        "print(\"Upper triangular form:\", \"\\n\", U)   \n",
        "print(\"Transformed Right Hand Side:\",rhs)   \n",
        "print(\"Solution:\", x)      "
      ]
    },
    {
      "cell_type": "code",
      "execution_count": 154,
      "metadata": {},
      "outputs": [],
      "source": [
        "# LU decomposition (no pivoting)\n",
        "\n",
        "# Define forward substitution function\n",
        "def forward_sub(L, b):\n",
        "    # solve L y = b (lower triangular)\n",
        "    n = L.shape[0]\n",
        "    y = np.zeros_like(b, dtype=float)\n",
        "    for i in range(n):\n",
        "        y[i] = (b[i] - L[i,:i] @ y[:i]) / L[i,i]\n",
        "    return y"
      ]
    },
    {
      "cell_type": "code",
      "execution_count": 155,
      "metadata": {},
      "outputs": [],
      "source": [
        "# Define linear equation\n",
        "A = np.array([[2., 1., 1.],\n",
        "              [4., -6., 0.],\n",
        "              [-2., 7., 2.]], dtype=float)\n",
        "b = np.array([5., -2., 9.], dtype=float)\n",
        "\n",
        "n = A.shape[0]\n",
        "L = np.zeros_like(A); U = np.zeros_like(A)\n",
        "\n"
      ]
    },
    {
      "cell_type": "code",
      "execution_count": 157,
      "metadata": {},
      "outputs": [
        {
          "name": "stdout",
          "output_type": "stream",
          "text": [
            "Unit lower triangular: \n",
            " [[ 1.  0.  0.]\n",
            " [ 2.  1.  0.]\n",
            " [-1. -1.  1.]]\n",
            "Upper triangular: \n",
            " [[ 2.  1.  1.]\n",
            " [ 0. -8. -2.]\n",
            " [ 0.  0.  1.]]\n",
            "Solution: [1. 1. 2.]\n"
          ]
        }
      ],
      "source": [
        "# Solve linear equation\n",
        "\n",
        "# LU Decomposition\n",
        "for i in range(n): # Doolittle method: set diag(L)=1\n",
        "    for j in range(i, n):\n",
        "        U[i,j] = A[i,j] - L[i,:i] @ U[:i,j]\n",
        "    L[i,i] = 1.0\n",
        "    for j in range(i+1, n):\n",
        "        L[j,i] = (A[j,i] - L[j,:i] @ U[:i,i]) / U[i,i]\n",
        "\n",
        "y = forward_sub(L, b)\n",
        "x = back_sub(U, y)\n",
        "\n",
        "print(\"Unit lower triangular:\",\"\\n\", L)   \n",
        "print(\"Upper triangular:\", \"\\n\", U) \n",
        "print(\"Solution:\",x)  "
      ]
    },
    {
      "cell_type": "code",
      "execution_count": 158,
      "metadata": {},
      "outputs": [],
      "source": [
        "# LU decomposition with pivoting\n",
        "\n",
        "# Define linear equation\n",
        "A = np.array([[0., 2., 1.],      # zero pivot example\n",
        "              [2., 1., 1.],\n",
        "              [3., 1., -1.]], dtype=float)\n",
        "b = np.array([4., 5., 6.], dtype=float)"
      ]
    },
    {
      "cell_type": "code",
      "execution_count": 159,
      "metadata": {},
      "outputs": [
        {
          "name": "stdout",
          "output_type": "stream",
          "text": [
            "P:\n",
            " [[0. 1. 0.]\n",
            " [0. 0. 1.]\n",
            " [1. 0. 0.]]\n",
            "L:\n",
            " [[1.         0.         0.        ]\n",
            " [0.         1.         0.        ]\n",
            " [0.66666667 0.16666667 1.        ]]\n",
            "U:\n",
            " [[ 3.   1.  -1. ]\n",
            " [ 0.   2.   1. ]\n",
            " [ 0.   0.   1.5]]\n",
            "x:\n",
            " [1.44444444 1.88888889 0.22222222]\n"
          ]
        }
      ],
      "source": [
        "# Solve linear equation using LU decomposition + Pivoting\n",
        "try:\n",
        "    # SciPy route (stable & fast)\n",
        "    from scipy.linalg import lu, lu_factor, lu_solve\n",
        "\n",
        "    P, L, U = lu(A)                 # PA = LU (for inspection)\n",
        "    lu_fac, piv = lu_factor(A)      # one-time factorization\n",
        "    x = lu_solve((lu_fac, piv), b)  # solve Ax=b using the factors\n",
        "\n",
        "    print(\"P:\\n\", P)\n",
        "    print(\"L:\\n\", L)\n",
        "    print(\"U:\\n\", U)\n",
        "    print(\"x:\\n\", x)\n",
        "\n",
        "except ImportError:\n",
        "    # Minimal educational implementation of partial pivoting\n",
        "    U = A.copy(); P = np.eye(A.shape[0]); L = np.zeros_like(A)\n",
        "    n = A.shape[0]\n",
        "    for k in range(n-1):\n",
        "        p = k + np.argmax(np.abs(U[k:, k]))  # pivot row\n",
        "        if p != k:\n",
        "            U[[k, p]] = U[[p, k]]\n",
        "            P[[k, p]] = P[[p, k]]\n",
        "            L[[k, p], :k] = L[[p, k], :k]\n",
        "        for i in range(k+1, n):\n",
        "            L[i, k] = U[i, k] / U[k, k]\n",
        "            U[i, k:] -= L[i, k] * U[k, k:]\n",
        "    np.fill_diagonal(L, 1.0)\n",
        "\n",
        "    # Solve PAx = LUx = Pb\n",
        "    def forward_sub(L, b):\n",
        "        n = L.shape[0]\n",
        "        y = np.zeros_like(b, dtype=float)\n",
        "        for i in range(n):\n",
        "            y[i] = (b[i] - L[i, :i] @ y[:i]) / L[i, i]\n",
        "        return y\n",
        "\n",
        "    def back_sub(U, y):\n",
        "        n = U.shape[0]\n",
        "        x = np.zeros_like(y, dtype=float)\n",
        "        for i in range(n-1, -1, -1):\n",
        "            x[i] = (y[i] - U[i, i+1:] @ x[i+1:]) / U[i, i]\n",
        "        return x\n",
        "\n",
        "    y = forward_sub(L, P @ b)\n",
        "    x = back_sub(U, y)\n",
        "\n",
        "    print(\"P:\\n\", P)\n",
        "    print(\"L:\\n\", L)\n",
        "    print(\"U:\\n\", U)\n",
        "    print(\"x:\\n\", x)"
      ]
    },
    {
      "cell_type": "markdown",
      "metadata": {},
      "source": [
        "### 1.2.2 Inverse and Gauss-Jordan Method"
      ]
    },
    {
      "cell_type": "code",
      "execution_count": 160,
      "metadata": {},
      "outputs": [],
      "source": [
        "# import library & setup\n",
        "import numpy as np\n",
        "np.set_printoptions(suppress=True, linewidth=120)"
      ]
    },
    {
      "cell_type": "code",
      "execution_count": 161,
      "metadata": {},
      "outputs": [],
      "source": [
        "# Create matrix\n",
        "A = np.array([[2., 1., 0.],\n",
        "              [1., 2., 1.],\n",
        "              [0., 1., 2.]], dtype=float)\n",
        "\n",
        "n = A.shape[0]\n",
        "AI = np.hstack([A, np.eye(n)])"
      ]
    },
    {
      "cell_type": "code",
      "execution_count": 162,
      "metadata": {},
      "outputs": [
        {
          "name": "stdout",
          "output_type": "stream",
          "text": [
            "[[ 0.75 -0.5   0.25]\n",
            " [-0.5   1.   -0.5 ]\n",
            " [ 0.25 -0.5   0.75]]\n"
          ]
        }
      ],
      "source": [
        "# Gauss-Jordan method for inverse matrix\n",
        "for i in range(n):\n",
        "    AI[i] = AI[i] / AI[i,i]   \n",
        "    for j in range(n):\n",
        "        if j != i:\n",
        "            AI[j] -= AI[j,i] * AI[i]     \n",
        "A_inv = AI[:, n:]\n",
        "\n",
        "print(A_inv)          "
      ]
    },
    {
      "cell_type": "code",
      "execution_count": 163,
      "metadata": {},
      "outputs": [
        {
          "name": "stdout",
          "output_type": "stream",
          "text": [
            "[[1. 0. 0.]\n",
            " [0. 1. 0.]\n",
            " [0. 0. 1.]]\n"
          ]
        }
      ],
      "source": [
        "print(A @ A_inv)       # should be I"
      ]
    },
    {
      "cell_type": "markdown",
      "metadata": {},
      "source": [
        "### 1.2.3. Sparse Matrix"
      ]
    },
    {
      "cell_type": "code",
      "execution_count": 164,
      "metadata": {},
      "outputs": [],
      "source": [
        "# Import library\n",
        "import numpy as np\n",
        "from scipy import sparse"
      ]
    },
    {
      "cell_type": "code",
      "execution_count": 165,
      "metadata": {},
      "outputs": [
        {
          "name": "stdout",
          "output_type": "stream",
          "text": [
            "  (np.int32(0), np.int32(2))\t7\n",
            "  (np.int32(1), np.int32(1))\t5\n",
            "  (np.int32(1), np.int32(4))\t1\n",
            "  (np.int32(2), np.int32(0))\t4\n",
            "  (np.int32(3), np.int32(2))\t2\n"
          ]
        }
      ],
      "source": [
        "# Create matrix\n",
        "matrix = np.array([\n",
        "        [0, 0, 7, 0, 0],\n",
        "        [0, 5, 0, 0, 1],\n",
        "        [4, 0, 0, 0, 0],\n",
        "        [0, 0, 2, 0, 0],\n",
        "    ])\n",
        "\n",
        "# Create CSR (compressed sparse row) matrix\n",
        "matrix_sparse = sparse.csr_matrix(matrix)\n",
        "\n",
        "print(matrix_sparse)"
      ]
    },
    {
      "cell_type": "code",
      "execution_count": 166,
      "metadata": {},
      "outputs": [
        {
          "name": "stdout",
          "output_type": "stream",
          "text": [
            "  (np.int32(1), np.int32(1))\t1\n",
            "  (np.int32(2), np.int32(0))\t3\n"
          ]
        }
      ],
      "source": [
        "# Create larger matrix\n",
        "matrix_large = np.array([[0, 0, 0, 0, 0, 0, 0, 0, 0, 0],\n",
        "                         [0, 1, 0, 0, 0, 0, 0, 0, 0, 0],\n",
        "                         [3, 0, 0, 0, 0, 0, 0, 0, 0, 0]])\n",
        "\n",
        "# Create CSR matrix\n",
        "matrix_large_sparse = sparse.csr_matrix(matrix_large)\n",
        "\n",
        "print(matrix_large_sparse)"
      ]
    },
    {
      "cell_type": "markdown",
      "metadata": {},
      "source": [
        "## 1.3 Determinants"
      ]
    },
    {
      "cell_type": "markdown",
      "metadata": {},
      "source": [
        "### 1.3.2 The Properties of the determinant"
      ]
    },
    {
      "cell_type": "code",
      "execution_count": 167,
      "metadata": {},
      "outputs": [],
      "source": [
        "# import library\n",
        "import numpy as np\n",
        "import matplotlib.pyplot as plt\n",
        "from scipy import linalg"
      ]
    },
    {
      "cell_type": "code",
      "execution_count": 168,
      "metadata": {},
      "outputs": [
        {
          "name": "stdout",
          "output_type": "stream",
          "text": [
            "-25.000000000000004\n"
          ]
        }
      ],
      "source": [
        "# Create matrix\n",
        "A = np.array([[1, 3, 5],\n",
        "              [2, 5, 1],\n",
        "              [2, 3, 8]])\n",
        "\n",
        "# Determinant\n",
        "determinant = linalg.det(A)\n",
        "print(determinant)"
      ]
    },
    {
      "cell_type": "code",
      "execution_count": 169,
      "metadata": {},
      "outputs": [
        {
          "data": {
            "image/png": "[encoded data removed]",
            "text/plain": [
              "<Figure size 640x480 with 1 Axes>"
            ]
          },
          "metadata": {},
          "output_type": "display_data"
        }
      ],
      "source": [
        "# matrix sizes\n",
        "ns = np.arange(3,31)\n",
        "\n",
        "# iteration\n",
        "iters = 100\n",
        "\n",
        "# initialize\n",
        "dets = np.zeros((len(ns),iters))\n",
        "\n",
        "# loop over matrix sizes\n",
        "for ni in range(len(ns)):\n",
        "    for i in range(iters):\n",
        "        \n",
        "        # step 1\n",
        "        A = np.random.randn(ns[ni],ns[ni])\n",
        "        \n",
        "        # step 2\n",
        "        A[:,0] = A[:,1]\n",
        "        \n",
        "        # step 3\n",
        "        dets[ni,i]=np.abs(np.linalg.det(A))\n",
        "        \n",
        "\n",
        "# plotting\n",
        "plt.plot(ns,np.log(np.mean(dets,axis=1)))\n",
        "plt.xlabel('Matrix size')\n",
        "plt.ylabel('Log determinant')\n",
        "plt.show()"
      ]
    },
    {
      "cell_type": "markdown",
      "metadata": {},
      "source": [
        "## 1.4 The Cholesky factorization"
      ]
    },
    {
      "cell_type": "markdown",
      "metadata": {},
      "source": [
        "### 1.4.1. Symmetric positive definite matrix"
      ]
    },
    {
      "cell_type": "code",
      "execution_count": 170,
      "metadata": {},
      "outputs": [],
      "source": [
        "# Import library\n",
        "import numpy as np\n",
        "\n",
        "# Create a symmetric matrix\n",
        "A = np.array([[2, -1],\n",
        "              [-1, 2]], dtype=float)"
      ]
    },
    {
      "cell_type": "code",
      "execution_count": 171,
      "metadata": {},
      "outputs": [
        {
          "name": "stdout",
          "output_type": "stream",
          "text": [
            "A is symmetric? True\n"
          ]
        }
      ],
      "source": [
        "# Check symmetry\n",
        "print(\"A is symmetric?\", np.allclose(A, A.T))"
      ]
    },
    {
      "cell_type": "code",
      "execution_count": 172,
      "metadata": {},
      "outputs": [
        {
          "name": "stdout",
          "output_type": "stream",
          "text": [
            "x=[0.46  0.998],  x^T A x=1.4964\n",
            "x=[ 0.536 -0.651],  x^T A x=2.1216\n",
            "x=[0.737 0.179],  x^T A x=0.8856\n",
            "x=[0.538 0.144],  x^T A x=0.4662\n",
            "x=[0.712 0.223],  x^T A x=0.7950\n"
          ]
        }
      ],
      "source": [
        "# Test x^T A x > 0 for random vectors x\n",
        "for _ in range(5):\n",
        "    x = np.random.randn(2)\n",
        "    val = float(x.T @ A @ x)\n",
        "    print(f\"x={x.round(3)},  x^T A x={val:.4f}\")"
      ]
    },
    {
      "cell_type": "markdown",
      "metadata": {},
      "source": [
        "### 1.4.2. The Cholesky factorization"
      ]
    },
    {
      "cell_type": "code",
      "execution_count": 173,
      "metadata": {},
      "outputs": [],
      "source": [
        "# Import library\n",
        "import numpy as np"
      ]
    },
    {
      "cell_type": "code",
      "execution_count": 174,
      "metadata": {},
      "outputs": [
        {
          "name": "stdout",
          "output_type": "stream",
          "text": [
            "Cholesky factor L:\n",
            " [[2.    0.   ]\n",
            " [1.    1.414]]\n",
            "Check: L @ L.T =\n",
            " [[4. 2.]\n",
            " [2. 3.]]\n"
          ]
        }
      ],
      "source": [
        "# Cholesky factorization\n",
        "A = np.array([[4, 2],\n",
        "              [2, 3]], dtype=float)\n",
        "\n",
        "L = np.linalg.cholesky(A) \n",
        "print(\"Cholesky factor L:\\n\", np.round(L, 3))\n",
        "print(\"Check: L @ L.T =\\n\", np.round(L @ L.T, 3))"
      ]
    },
    {
      "cell_type": "code",
      "execution_count": 175,
      "metadata": {},
      "outputs": [
        {
          "name": "stdout",
          "output_type": "stream",
          "text": [
            "Solution x: [1. 1. 1.]\n",
            "A @ x: [35. 33.  6.]\n",
            "b: [35. 33.  6.]\n"
          ]
        }
      ],
      "source": [
        "# Solve Ax=b using Cholesky decomposition (if A is SPD)\n",
        "A = np.array([[25, 15, -5],\n",
        "              [15, 18,  0],\n",
        "              [-5,  0, 11]], dtype=float)\n",
        "b = np.array([35, 33, 6], dtype=float)\n",
        "\n",
        "# Factorization\n",
        "L = np.linalg.cholesky(A)\n",
        "\n",
        "# Forward + backward substitution\n",
        "y = np.linalg.solve(L, b)       \n",
        "x = np.linalg.solve(L.T, y) \n",
        "\n",
        "print(\"Solution x:\", np.round(x, 4))\n",
        "print(\"A @ x:\", np.round(A @ x, 4))\n",
        "print(\"b:\",b)"
      ]
    },
    {
      "cell_type": "code",
      "execution_count": 176,
      "metadata": {},
      "outputs": [
        {
          "name": "stdout",
          "output_type": "stream",
          "text": [
            "Estimated x: [ 0.998  2.011 -0.999]\n",
            "True x: [ 1  2 -1]\n"
          ]
        }
      ],
      "source": [
        "# Least squares using Cholesky decomposition\n",
        "\n",
        "np.random.seed(0)\n",
        "A = np.random.randn(5, 3)   # 5 eqs, 3 unknowns\n",
        "x_true = np.array([1, 2, -1])\n",
        "b = A @ x_true + 0.01*np.random.randn(5)   # noisy b\n",
        "\n",
        "# Normal equations\n",
        "AtA = A.T @ A\n",
        "Atb = A.T @ b\n",
        "\n",
        "# Solve using Cholesky Decomposition\n",
        "L = np.linalg.cholesky(AtA)    \n",
        "y = np.linalg.solve(L, Atb)          # solve L y = A^T b\n",
        "x_est = np.linalg.solve(L.T, y)      # solve L^T x = y\n",
        "\n",
        "print(\"Estimated x:\", np.round(x_est, 3))\n",
        "print(\"True x:\", x_true)"
      ]
    }
  ],
  "metadata": {
    "colab": {
      "provenance": []
    },
    "kernelspec": {
      "display_name": "Python (.venv)",
      "language": "python",
      "name": ".venv"
    },
    "language_info": {
      "codemirror_mode": {
        "name": "ipython",
        "version": 3
      },
      "file_extension": ".py",
      "mimetype": "text/x-python",
      "name": "python",
      "nbconvert_exporter": "python",
      "pygments_lexer": "ipython3",
      "version": "3.9.6"
    }
  },
  "nbformat": 4,
  "nbformat_minor": 0
}
