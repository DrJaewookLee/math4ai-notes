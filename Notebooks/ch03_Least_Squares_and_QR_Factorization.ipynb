{
 "cells": [
  {
   "cell_type": "markdown",
   "id": "befbb72b",
   "metadata": {},
   "source": [
    "# Ch3 Least Squares and QR factorization"
   ]
  },
  {
   "cell_type": "markdown",
   "id": "877317eb",
   "metadata": {},
   "source": [
    "<a target=\"_blank\" href=\"https://colab.research.google.com/github/DrJaewookLee/math4ai-notes/blob/main/Notebooks/ch03_Least_Squares_and_QR_Factorization.ipynb\">\n",
    "  <img src=\"https://colab.research.google.com/assets/colab-badge.svg\" alt=\"Open In Colab\"/>\n",
    "</a>"
   ]
  },
  {
   "cell_type": "markdown",
   "id": "d34f0e4a",
   "metadata": {},
   "source": [
    "## 3.1 Projection and Least Squares"
   ]
  },
  {
   "cell_type": "markdown",
   "id": "a1995eb5",
   "metadata": {},
   "source": [
    "### 3.1.1 Projection and Orthogonal Projections"
   ]
  },
  {
   "cell_type": "code",
   "execution_count": 16,
   "id": "8fa3198e",
   "metadata": {},
   "outputs": [],
   "source": [
    "# Import library\n",
    "import numpy as np\n",
    "import matplotlib.pyplot as plt"
   ]
  },
  {
   "cell_type": "code",
   "execution_count": 17,
   "id": "ed7642dc",
   "metadata": {},
   "outputs": [
    {
     "data": {
      "image/png": "[encoded data removed]",
      "text/plain": [
       "<Figure size 640x480 with 1 Axes>"
      ]
     },
     "metadata": {},
     "output_type": "display_data"
    }
   ],
   "source": [
    "# Define vector v and basis vector a\n",
    "v = np.array([2, 3])\n",
    "a = np.array([1, 1])   # direction to project onto\n",
    "a = a / np.linalg.norm(a)  # normalize\n",
    "\n",
    "# Orthogonal projection of v onto a\n",
    "p = (v @ a) * a\n",
    "\n",
    "# Plot\n",
    "plt.figure()\n",
    "plt.quiver(0, 0, v[0], v[1], angles=\"xy\", scale_units=\"xy\", scale=1, color=\"blue\", label=\"v\")\n",
    "plt.quiver(0, 0, p[0], p[1], angles=\"xy\", scale_units=\"xy\", scale=1, color=\"red\", label=\"Projection\")\n",
    "plt.quiver(0, 0, a[0], a[1], angles=\"xy\", scale_units=\"xy\", scale=1, color=\"green\", label=\"Direction a\")\n",
    "\n",
    "plt.xlim(0, 3); plt.ylim(0, 3)\n",
    "plt.grid(); plt.legend()\n",
    "plt.gca().set_aspect('equal')\n",
    "plt.show()"
   ]
  },
  {
   "cell_type": "code",
   "execution_count": 18,
   "id": "874be4a1",
   "metadata": {},
   "outputs": [
    {
     "name": "stdout",
     "output_type": "stream",
     "text": [
      "P^2 == P ? True\n",
      "Projection: [2.5 2.5]\n"
     ]
    }
   ],
   "source": [
    "# Projection matrix onto direction a\n",
    "P = np.outer(a, a)\n",
    "\n",
    "# Check: P^2 = P (idempotent)\n",
    "print(\"P^2 == P ?\", np.allclose(P @ P, P))\n",
    "\n",
    "# Apply projection\n",
    "proj = P @ v\n",
    "print(\"Projection:\", proj)"
   ]
  },
  {
   "cell_type": "markdown",
   "id": "59c85027",
   "metadata": {},
   "source": [
    "### 3.1.2 Least Squares Problems"
   ]
  },
  {
   "cell_type": "code",
   "execution_count": null,
   "id": "5e3bd5c3",
   "metadata": {},
   "outputs": [],
   "source": [
    "# import library\n",
    "import numpy as np\n",
    "from scipy import linalg\n",
    "import matplotlib.pyplot as plt\n",
    "%matplotlib inline"
   ]
  },
  {
   "cell_type": "code",
   "execution_count": 21,
   "id": "a4f77e6d",
   "metadata": {},
   "outputs": [],
   "source": [
    "# Define linear equation\n",
    "A = np.array([[1, 2],\n",
    "              [1, 3],\n",
    "              [0, 0]], dtype=float)\n",
    "\n",
    "b = np.array([4, 5, 6], dtype=float).reshape(-1, 1)"
   ]
  },
  {
   "cell_type": "code",
   "execution_count": null,
   "id": "ed3e1f46",
   "metadata": {},
   "outputs": [
    {
     "name": "stdout",
     "output_type": "stream",
     "text": [
      "Least squares solution: [[2.]\n",
      " [1.]]\n"
     ]
    }
   ],
   "source": [
    "# Least Squares\n",
    "x, residuals, _, _ = linalg.lstsq(A, b)\n",
    "print(\"Least squares solution:\",x)"
   ]
  },
  {
   "cell_type": "code",
   "execution_count": null,
   "id": "2b5fb5b2",
   "metadata": {},
   "outputs": [
    {
     "name": "stdout",
     "output_type": "stream",
     "text": [
      "Fitted vector: \n",
      " [[4.]\n",
      " [5.]\n",
      " [0.]]\n"
     ]
    }
   ],
   "source": [
    "b=A@x\n",
    "print(\"Fitted vector:\",\"\\n\", b)"
   ]
  },
  {
   "cell_type": "code",
   "execution_count": 83,
   "id": "d57c8360",
   "metadata": {},
   "outputs": [
    {
     "ename": "NameError",
     "evalue": "name 'residuals' is not defined",
     "output_type": "error",
     "traceback": [
      "\u001b[0;31m---------------------------------------------------------------------------\u001b[0m",
      "\u001b[0;31mNameError\u001b[0m                                 Traceback (most recent call last)",
      "Cell \u001b[0;32mIn[83], line 1\u001b[0m\n\u001b[0;32m----> 1\u001b[0m \u001b[38;5;28mprint\u001b[39m(\u001b[38;5;124m\"\u001b[39m\u001b[38;5;124mSum of squared residuals:\u001b[39m\u001b[38;5;124m\"\u001b[39m, \u001b[43mresiduals\u001b[49m)\n",
      "\u001b[0;31mNameError\u001b[0m: name 'residuals' is not defined"
     ]
    }
   ],
   "source": [
    "print(\"Sum of squared residuals:\", residuals)"
   ]
  },
  {
   "cell_type": "code",
   "execution_count": 59,
   "id": "f6cb3c1b",
   "metadata": {},
   "outputs": [],
   "source": [
    "# Least Squares Example\n",
    "\n",
    "# import libraries\n",
    "import pandas as pd\n",
    "from pathlib import Path\n",
    "from sklearn import linear_model"
   ]
  },
  {
   "cell_type": "code",
   "execution_count": 35,
   "id": "aa7f4b49",
   "metadata": {},
   "outputs": [
    {
     "name": "stdout",
     "output_type": "stream",
     "text": [
      "Data Loaded\n"
     ]
    }
   ],
   "source": [
    "# Load data\n",
    "data = {}\n",
    "f_list = [\"solTestX\", \"solTestY\", \"solTrainX\", \"solTrainY\"]\n",
    "\n",
    "for i in f_list :\n",
    "    data[i] = pd.read_csv('data/'+i+\".csv\", index_col=0)\n",
    "    \n",
    "print(\"Data Loaded\")"
   ]
  },
  {
   "cell_type": "code",
   "execution_count": 36,
   "id": "5e641a26",
   "metadata": {},
   "outputs": [
    {
     "name": "stdout",
     "output_type": "stream",
     "text": [
      "train data :  (951, 228)\n",
      "train label :  (951, 1)\n",
      "test data :  (316, 228)\n",
      "test label :  (316, 1)\n"
     ]
    }
   ],
   "source": [
    "# Split into train/test sets\n",
    "train_data = data[\"solTrainX\"]\n",
    "train_label = data[\"solTrainY\"]\n",
    "test_data = data[\"solTestX\"]\n",
    "test_label = data[\"solTestY\"]\n",
    "\n",
    "print(\"train data : \", train_data.shape)\n",
    "print(\"train label : \", train_label.shape)\n",
    "print(\"test data : \", test_data.shape)\n",
    "print(\"test label : \", test_label.shape)\n",
    "\n",
    "arr = train_data.columns"
   ]
  },
  {
   "cell_type": "code",
   "execution_count": 37,
   "id": "11784ecb",
   "metadata": {},
   "outputs": [
    {
     "data": {
      "text/html": [
       "<div>\n",
       "<style scoped>\n",
       "    .dataframe tbody tr th:only-of-type {\n",
       "        vertical-align: middle;\n",
       "    }\n",
       "\n",
       "    .dataframe tbody tr th {\n",
       "        vertical-align: top;\n",
       "    }\n",
       "\n",
       "    .dataframe thead th {\n",
       "        text-align: right;\n",
       "    }\n",
       "</style>\n",
       "<table border=\"1\" class=\"dataframe\">\n",
       "  <thead>\n",
       "    <tr style=\"text-align: right;\">\n",
       "      <th></th>\n",
       "      <th>FP001</th>\n",
       "      <th>FP002</th>\n",
       "      <th>FP003</th>\n",
       "      <th>FP004</th>\n",
       "      <th>FP005</th>\n",
       "      <th>FP006</th>\n",
       "      <th>FP007</th>\n",
       "      <th>FP008</th>\n",
       "      <th>FP009</th>\n",
       "      <th>FP010</th>\n",
       "      <th>...</th>\n",
       "      <th>NumCarbon</th>\n",
       "      <th>NumNitrogen</th>\n",
       "      <th>NumOxygen</th>\n",
       "      <th>NumSulfer</th>\n",
       "      <th>NumChlorine</th>\n",
       "      <th>NumHalogen</th>\n",
       "      <th>NumRings</th>\n",
       "      <th>HydrophilicFactor</th>\n",
       "      <th>SurfaceArea1</th>\n",
       "      <th>SurfaceArea2</th>\n",
       "    </tr>\n",
       "  </thead>\n",
       "  <tbody>\n",
       "    <tr>\n",
       "      <th>20</th>\n",
       "      <td>1</td>\n",
       "      <td>0</td>\n",
       "      <td>0</td>\n",
       "      <td>1</td>\n",
       "      <td>0</td>\n",
       "      <td>0</td>\n",
       "      <td>0</td>\n",
       "      <td>0</td>\n",
       "      <td>1</td>\n",
       "      <td>1</td>\n",
       "      <td>...</td>\n",
       "      <td>2</td>\n",
       "      <td>0</td>\n",
       "      <td>2</td>\n",
       "      <td>0</td>\n",
       "      <td>1</td>\n",
       "      <td>1</td>\n",
       "      <td>0</td>\n",
       "      <td>0.492</td>\n",
       "      <td>37.30</td>\n",
       "      <td>37.30</td>\n",
       "    </tr>\n",
       "    <tr>\n",
       "      <th>21</th>\n",
       "      <td>1</td>\n",
       "      <td>0</td>\n",
       "      <td>1</td>\n",
       "      <td>1</td>\n",
       "      <td>0</td>\n",
       "      <td>1</td>\n",
       "      <td>0</td>\n",
       "      <td>0</td>\n",
       "      <td>0</td>\n",
       "      <td>0</td>\n",
       "      <td>...</td>\n",
       "      <td>3</td>\n",
       "      <td>1</td>\n",
       "      <td>2</td>\n",
       "      <td>0</td>\n",
       "      <td>0</td>\n",
       "      <td>0</td>\n",
       "      <td>0</td>\n",
       "      <td>1.317</td>\n",
       "      <td>52.32</td>\n",
       "      <td>52.32</td>\n",
       "    </tr>\n",
       "    <tr>\n",
       "      <th>23</th>\n",
       "      <td>0</td>\n",
       "      <td>1</td>\n",
       "      <td>0</td>\n",
       "      <td>0</td>\n",
       "      <td>1</td>\n",
       "      <td>0</td>\n",
       "      <td>0</td>\n",
       "      <td>0</td>\n",
       "      <td>0</td>\n",
       "      <td>1</td>\n",
       "      <td>...</td>\n",
       "      <td>6</td>\n",
       "      <td>0</td>\n",
       "      <td>2</td>\n",
       "      <td>0</td>\n",
       "      <td>0</td>\n",
       "      <td>0</td>\n",
       "      <td>1</td>\n",
       "      <td>0.846</td>\n",
       "      <td>40.46</td>\n",
       "      <td>40.46</td>\n",
       "    </tr>\n",
       "    <tr>\n",
       "      <th>25</th>\n",
       "      <td>0</td>\n",
       "      <td>0</td>\n",
       "      <td>1</td>\n",
       "      <td>0</td>\n",
       "      <td>0</td>\n",
       "      <td>1</td>\n",
       "      <td>0</td>\n",
       "      <td>0</td>\n",
       "      <td>0</td>\n",
       "      <td>0</td>\n",
       "      <td>...</td>\n",
       "      <td>5</td>\n",
       "      <td>2</td>\n",
       "      <td>0</td>\n",
       "      <td>0</td>\n",
       "      <td>0</td>\n",
       "      <td>0</td>\n",
       "      <td>1</td>\n",
       "      <td>0.984</td>\n",
       "      <td>24.06</td>\n",
       "      <td>24.06</td>\n",
       "    </tr>\n",
       "    <tr>\n",
       "      <th>28</th>\n",
       "      <td>1</td>\n",
       "      <td>1</td>\n",
       "      <td>0</td>\n",
       "      <td>1</td>\n",
       "      <td>1</td>\n",
       "      <td>1</td>\n",
       "      <td>0</td>\n",
       "      <td>1</td>\n",
       "      <td>0</td>\n",
       "      <td>0</td>\n",
       "      <td>...</td>\n",
       "      <td>6</td>\n",
       "      <td>2</td>\n",
       "      <td>1</td>\n",
       "      <td>0</td>\n",
       "      <td>0</td>\n",
       "      <td>0</td>\n",
       "      <td>1</td>\n",
       "      <td>0.843</td>\n",
       "      <td>55.98</td>\n",
       "      <td>55.98</td>\n",
       "    </tr>\n",
       "  </tbody>\n",
       "</table>\n",
       "<p>5 rows × 228 columns</p>\n",
       "</div>"
      ],
      "text/plain": [
       "    FP001  FP002  FP003  FP004  FP005  FP006  FP007  FP008  FP009  FP010  ...  \\\n",
       "20      1      0      0      1      0      0      0      0      1      1  ...   \n",
       "21      1      0      1      1      0      1      0      0      0      0  ...   \n",
       "23      0      1      0      0      1      0      0      0      0      1  ...   \n",
       "25      0      0      1      0      0      1      0      0      0      0  ...   \n",
       "28      1      1      0      1      1      1      0      1      0      0  ...   \n",
       "\n",
       "    NumCarbon  NumNitrogen  NumOxygen  NumSulfer  NumChlorine  NumHalogen  \\\n",
       "20          2            0          2          0            1           1   \n",
       "21          3            1          2          0            0           0   \n",
       "23          6            0          2          0            0           0   \n",
       "25          5            2          0          0            0           0   \n",
       "28          6            2          1          0            0           0   \n",
       "\n",
       "    NumRings  HydrophilicFactor  SurfaceArea1  SurfaceArea2  \n",
       "20         0              0.492         37.30         37.30  \n",
       "21         0              1.317         52.32         52.32  \n",
       "23         1              0.846         40.46         40.46  \n",
       "25         1              0.984         24.06         24.06  \n",
       "28         1              0.843         55.98         55.98  \n",
       "\n",
       "[5 rows x 228 columns]"
      ]
     },
     "execution_count": 37,
     "metadata": {},
     "output_type": "execute_result"
    }
   ],
   "source": [
    "data[\"solTestX\"].head()"
   ]
  },
  {
   "cell_type": "code",
   "execution_count": 38,
   "id": "f4ca33fd",
   "metadata": {},
   "outputs": [
    {
     "data": {
      "text/html": [
       "<div>\n",
       "<style scoped>\n",
       "    .dataframe tbody tr th:only-of-type {\n",
       "        vertical-align: middle;\n",
       "    }\n",
       "\n",
       "    .dataframe tbody tr th {\n",
       "        vertical-align: top;\n",
       "    }\n",
       "\n",
       "    .dataframe thead th {\n",
       "        text-align: right;\n",
       "    }\n",
       "</style>\n",
       "<table border=\"1\" class=\"dataframe\">\n",
       "  <thead>\n",
       "    <tr style=\"text-align: right;\">\n",
       "      <th></th>\n",
       "      <th>x</th>\n",
       "    </tr>\n",
       "  </thead>\n",
       "  <tbody>\n",
       "    <tr>\n",
       "      <th>1</th>\n",
       "      <td>0.93</td>\n",
       "    </tr>\n",
       "    <tr>\n",
       "      <th>2</th>\n",
       "      <td>0.85</td>\n",
       "    </tr>\n",
       "    <tr>\n",
       "      <th>3</th>\n",
       "      <td>0.81</td>\n",
       "    </tr>\n",
       "    <tr>\n",
       "      <th>4</th>\n",
       "      <td>0.74</td>\n",
       "    </tr>\n",
       "    <tr>\n",
       "      <th>5</th>\n",
       "      <td>0.61</td>\n",
       "    </tr>\n",
       "  </tbody>\n",
       "</table>\n",
       "</div>"
      ],
      "text/plain": [
       "      x\n",
       "1  0.93\n",
       "2  0.85\n",
       "3  0.81\n",
       "4  0.74\n",
       "5  0.61"
      ]
     },
     "execution_count": 38,
     "metadata": {},
     "output_type": "execute_result"
    }
   ],
   "source": [
    "data[\"solTestY\"].head()"
   ]
  },
  {
   "cell_type": "code",
   "execution_count": 39,
   "id": "06c813fb",
   "metadata": {},
   "outputs": [
    {
     "data": {
      "text/html": [
       "<style>#sk-container-id-1 {\n",
       "  /* Definition of color scheme common for light and dark mode */\n",
       "  --sklearn-color-text: #000;\n",
       "  --sklearn-color-text-muted: #666;\n",
       "  --sklearn-color-line: gray;\n",
       "  /* Definition of color scheme for unfitted estimators */\n",
       "  --sklearn-color-unfitted-level-0: #fff5e6;\n",
       "  --sklearn-color-unfitted-level-1: #f6e4d2;\n",
       "  --sklearn-color-unfitted-level-2: #ffe0b3;\n",
       "  --sklearn-color-unfitted-level-3: chocolate;\n",
       "  /* Definition of color scheme for fitted estimators */\n",
       "  --sklearn-color-fitted-level-0: #f0f8ff;\n",
       "  --sklearn-color-fitted-level-1: #d4ebff;\n",
       "  --sklearn-color-fitted-level-2: #b3dbfd;\n",
       "  --sklearn-color-fitted-level-3: cornflowerblue;\n",
       "\n",
       "  /* Specific color for light theme */\n",
       "  --sklearn-color-text-on-default-background: var(--sg-text-color, var(--theme-code-foreground, var(--jp-content-font-color1, black)));\n",
       "  --sklearn-color-background: var(--sg-background-color, var(--theme-background, var(--jp-layout-color0, white)));\n",
       "  --sklearn-color-border-box: var(--sg-text-color, var(--theme-code-foreground, var(--jp-content-font-color1, black)));\n",
       "  --sklearn-color-icon: #696969;\n",
       "\n",
       "  @media (prefers-color-scheme: dark) {\n",
       "    /* Redefinition of color scheme for dark theme */\n",
       "    --sklearn-color-text-on-default-background: var(--sg-text-color, var(--theme-code-foreground, var(--jp-content-font-color1, white)));\n",
       "    --sklearn-color-background: var(--sg-background-color, var(--theme-background, var(--jp-layout-color0, #111)));\n",
       "    --sklearn-color-border-box: var(--sg-text-color, var(--theme-code-foreground, var(--jp-content-font-color1, white)));\n",
       "    --sklearn-color-icon: #878787;\n",
       "  }\n",
       "}\n",
       "\n",
       "#sk-container-id-1 {\n",
       "  color: var(--sklearn-color-text);\n",
       "}\n",
       "\n",
       "#sk-container-id-1 pre {\n",
       "  padding: 0;\n",
       "}\n",
       "\n",
       "#sk-container-id-1 input.sk-hidden--visually {\n",
       "  border: 0;\n",
       "  clip: rect(1px 1px 1px 1px);\n",
       "  clip: rect(1px, 1px, 1px, 1px);\n",
       "  height: 1px;\n",
       "  margin: -1px;\n",
       "  overflow: hidden;\n",
       "  padding: 0;\n",
       "  position: absolute;\n",
       "  width: 1px;\n",
       "}\n",
       "\n",
       "#sk-container-id-1 div.sk-dashed-wrapped {\n",
       "  border: 1px dashed var(--sklearn-color-line);\n",
       "  margin: 0 0.4em 0.5em 0.4em;\n",
       "  box-sizing: border-box;\n",
       "  padding-bottom: 0.4em;\n",
       "  background-color: var(--sklearn-color-background);\n",
       "}\n",
       "\n",
       "#sk-container-id-1 div.sk-container {\n",
       "  /* jupyter's `normalize.less` sets `[hidden] { display: none; }`\n",
       "     but bootstrap.min.css set `[hidden] { display: none !important; }`\n",
       "     so we also need the `!important` here to be able to override the\n",
       "     default hidden behavior on the sphinx rendered scikit-learn.org.\n",
       "     See: https://github.com/scikit-learn/scikit-learn/issues/21755 */\n",
       "  display: inline-block !important;\n",
       "  position: relative;\n",
       "}\n",
       "\n",
       "#sk-container-id-1 div.sk-text-repr-fallback {\n",
       "  display: none;\n",
       "}\n",
       "\n",
       "div.sk-parallel-item,\n",
       "div.sk-serial,\n",
       "div.sk-item {\n",
       "  /* draw centered vertical line to link estimators */\n",
       "  background-image: linear-gradient(var(--sklearn-color-text-on-default-background), var(--sklearn-color-text-on-default-background));\n",
       "  background-size: 2px 100%;\n",
       "  background-repeat: no-repeat;\n",
       "  background-position: center center;\n",
       "}\n",
       "\n",
       "/* Parallel-specific style estimator block */\n",
       "\n",
       "#sk-container-id-1 div.sk-parallel-item::after {\n",
       "  content: \"\";\n",
       "  width: 100%;\n",
       "  border-bottom: 2px solid var(--sklearn-color-text-on-default-background);\n",
       "  flex-grow: 1;\n",
       "}\n",
       "\n",
       "#sk-container-id-1 div.sk-parallel {\n",
       "  display: flex;\n",
       "  align-items: stretch;\n",
       "  justify-content: center;\n",
       "  background-color: var(--sklearn-color-background);\n",
       "  position: relative;\n",
       "}\n",
       "\n",
       "#sk-container-id-1 div.sk-parallel-item {\n",
       "  display: flex;\n",
       "  flex-direction: column;\n",
       "}\n",
       "\n",
       "#sk-container-id-1 div.sk-parallel-item:first-child::after {\n",
       "  align-self: flex-end;\n",
       "  width: 50%;\n",
       "}\n",
       "\n",
       "#sk-container-id-1 div.sk-parallel-item:last-child::after {\n",
       "  align-self: flex-start;\n",
       "  width: 50%;\n",
       "}\n",
       "\n",
       "#sk-container-id-1 div.sk-parallel-item:only-child::after {\n",
       "  width: 0;\n",
       "}\n",
       "\n",
       "/* Serial-specific style estimator block */\n",
       "\n",
       "#sk-container-id-1 div.sk-serial {\n",
       "  display: flex;\n",
       "  flex-direction: column;\n",
       "  align-items: center;\n",
       "  background-color: var(--sklearn-color-background);\n",
       "  padding-right: 1em;\n",
       "  padding-left: 1em;\n",
       "}\n",
       "\n",
       "\n",
       "/* Toggleable style: style used for estimator/Pipeline/ColumnTransformer box that is\n",
       "clickable and can be expanded/collapsed.\n",
       "- Pipeline and ColumnTransformer use this feature and define the default style\n",
       "- Estimators will overwrite some part of the style using the `sk-estimator` class\n",
       "*/\n",
       "\n",
       "/* Pipeline and ColumnTransformer style (default) */\n",
       "\n",
       "#sk-container-id-1 div.sk-toggleable {\n",
       "  /* Default theme specific background. It is overwritten whether we have a\n",
       "  specific estimator or a Pipeline/ColumnTransformer */\n",
       "  background-color: var(--sklearn-color-background);\n",
       "}\n",
       "\n",
       "/* Toggleable label */\n",
       "#sk-container-id-1 label.sk-toggleable__label {\n",
       "  cursor: pointer;\n",
       "  display: flex;\n",
       "  width: 100%;\n",
       "  margin-bottom: 0;\n",
       "  padding: 0.5em;\n",
       "  box-sizing: border-box;\n",
       "  text-align: center;\n",
       "  align-items: start;\n",
       "  justify-content: space-between;\n",
       "  gap: 0.5em;\n",
       "}\n",
       "\n",
       "#sk-container-id-1 label.sk-toggleable__label .caption {\n",
       "  font-size: 0.6rem;\n",
       "  font-weight: lighter;\n",
       "  color: var(--sklearn-color-text-muted);\n",
       "}\n",
       "\n",
       "#sk-container-id-1 label.sk-toggleable__label-arrow:before {\n",
       "  /* Arrow on the left of the label */\n",
       "  content: \"▸\";\n",
       "  float: left;\n",
       "  margin-right: 0.25em;\n",
       "  color: var(--sklearn-color-icon);\n",
       "}\n",
       "\n",
       "#sk-container-id-1 label.sk-toggleable__label-arrow:hover:before {\n",
       "  color: var(--sklearn-color-text);\n",
       "}\n",
       "\n",
       "/* Toggleable content - dropdown */\n",
       "\n",
       "#sk-container-id-1 div.sk-toggleable__content {\n",
       "  max-height: 0;\n",
       "  max-width: 0;\n",
       "  overflow: hidden;\n",
       "  text-align: left;\n",
       "  /* unfitted */\n",
       "  background-color: var(--sklearn-color-unfitted-level-0);\n",
       "}\n",
       "\n",
       "#sk-container-id-1 div.sk-toggleable__content.fitted {\n",
       "  /* fitted */\n",
       "  background-color: var(--sklearn-color-fitted-level-0);\n",
       "}\n",
       "\n",
       "#sk-container-id-1 div.sk-toggleable__content pre {\n",
       "  margin: 0.2em;\n",
       "  border-radius: 0.25em;\n",
       "  color: var(--sklearn-color-text);\n",
       "  /* unfitted */\n",
       "  background-color: var(--sklearn-color-unfitted-level-0);\n",
       "}\n",
       "\n",
       "#sk-container-id-1 div.sk-toggleable__content.fitted pre {\n",
       "  /* unfitted */\n",
       "  background-color: var(--sklearn-color-fitted-level-0);\n",
       "}\n",
       "\n",
       "#sk-container-id-1 input.sk-toggleable__control:checked~div.sk-toggleable__content {\n",
       "  /* Expand drop-down */\n",
       "  max-height: 200px;\n",
       "  max-width: 100%;\n",
       "  overflow: auto;\n",
       "}\n",
       "\n",
       "#sk-container-id-1 input.sk-toggleable__control:checked~label.sk-toggleable__label-arrow:before {\n",
       "  content: \"▾\";\n",
       "}\n",
       "\n",
       "/* Pipeline/ColumnTransformer-specific style */\n",
       "\n",
       "#sk-container-id-1 div.sk-label input.sk-toggleable__control:checked~label.sk-toggleable__label {\n",
       "  color: var(--sklearn-color-text);\n",
       "  background-color: var(--sklearn-color-unfitted-level-2);\n",
       "}\n",
       "\n",
       "#sk-container-id-1 div.sk-label.fitted input.sk-toggleable__control:checked~label.sk-toggleable__label {\n",
       "  background-color: var(--sklearn-color-fitted-level-2);\n",
       "}\n",
       "\n",
       "/* Estimator-specific style */\n",
       "\n",
       "/* Colorize estimator box */\n",
       "#sk-container-id-1 div.sk-estimator input.sk-toggleable__control:checked~label.sk-toggleable__label {\n",
       "  /* unfitted */\n",
       "  background-color: var(--sklearn-color-unfitted-level-2);\n",
       "}\n",
       "\n",
       "#sk-container-id-1 div.sk-estimator.fitted input.sk-toggleable__control:checked~label.sk-toggleable__label {\n",
       "  /* fitted */\n",
       "  background-color: var(--sklearn-color-fitted-level-2);\n",
       "}\n",
       "\n",
       "#sk-container-id-1 div.sk-label label.sk-toggleable__label,\n",
       "#sk-container-id-1 div.sk-label label {\n",
       "  /* The background is the default theme color */\n",
       "  color: var(--sklearn-color-text-on-default-background);\n",
       "}\n",
       "\n",
       "/* On hover, darken the color of the background */\n",
       "#sk-container-id-1 div.sk-label:hover label.sk-toggleable__label {\n",
       "  color: var(--sklearn-color-text);\n",
       "  background-color: var(--sklearn-color-unfitted-level-2);\n",
       "}\n",
       "\n",
       "/* Label box, darken color on hover, fitted */\n",
       "#sk-container-id-1 div.sk-label.fitted:hover label.sk-toggleable__label.fitted {\n",
       "  color: var(--sklearn-color-text);\n",
       "  background-color: var(--sklearn-color-fitted-level-2);\n",
       "}\n",
       "\n",
       "/* Estimator label */\n",
       "\n",
       "#sk-container-id-1 div.sk-label label {\n",
       "  font-family: monospace;\n",
       "  font-weight: bold;\n",
       "  display: inline-block;\n",
       "  line-height: 1.2em;\n",
       "}\n",
       "\n",
       "#sk-container-id-1 div.sk-label-container {\n",
       "  text-align: center;\n",
       "}\n",
       "\n",
       "/* Estimator-specific */\n",
       "#sk-container-id-1 div.sk-estimator {\n",
       "  font-family: monospace;\n",
       "  border: 1px dotted var(--sklearn-color-border-box);\n",
       "  border-radius: 0.25em;\n",
       "  box-sizing: border-box;\n",
       "  margin-bottom: 0.5em;\n",
       "  /* unfitted */\n",
       "  background-color: var(--sklearn-color-unfitted-level-0);\n",
       "}\n",
       "\n",
       "#sk-container-id-1 div.sk-estimator.fitted {\n",
       "  /* fitted */\n",
       "  background-color: var(--sklearn-color-fitted-level-0);\n",
       "}\n",
       "\n",
       "/* on hover */\n",
       "#sk-container-id-1 div.sk-estimator:hover {\n",
       "  /* unfitted */\n",
       "  background-color: var(--sklearn-color-unfitted-level-2);\n",
       "}\n",
       "\n",
       "#sk-container-id-1 div.sk-estimator.fitted:hover {\n",
       "  /* fitted */\n",
       "  background-color: var(--sklearn-color-fitted-level-2);\n",
       "}\n",
       "\n",
       "/* Specification for estimator info (e.g. \"i\" and \"?\") */\n",
       "\n",
       "/* Common style for \"i\" and \"?\" */\n",
       "\n",
       ".sk-estimator-doc-link,\n",
       "a:link.sk-estimator-doc-link,\n",
       "a:visited.sk-estimator-doc-link {\n",
       "  float: right;\n",
       "  font-size: smaller;\n",
       "  line-height: 1em;\n",
       "  font-family: monospace;\n",
       "  background-color: var(--sklearn-color-background);\n",
       "  border-radius: 1em;\n",
       "  height: 1em;\n",
       "  width: 1em;\n",
       "  text-decoration: none !important;\n",
       "  margin-left: 0.5em;\n",
       "  text-align: center;\n",
       "  /* unfitted */\n",
       "  border: var(--sklearn-color-unfitted-level-1) 1pt solid;\n",
       "  color: var(--sklearn-color-unfitted-level-1);\n",
       "}\n",
       "\n",
       ".sk-estimator-doc-link.fitted,\n",
       "a:link.sk-estimator-doc-link.fitted,\n",
       "a:visited.sk-estimator-doc-link.fitted {\n",
       "  /* fitted */\n",
       "  border: var(--sklearn-color-fitted-level-1) 1pt solid;\n",
       "  color: var(--sklearn-color-fitted-level-1);\n",
       "}\n",
       "\n",
       "/* On hover */\n",
       "div.sk-estimator:hover .sk-estimator-doc-link:hover,\n",
       ".sk-estimator-doc-link:hover,\n",
       "div.sk-label-container:hover .sk-estimator-doc-link:hover,\n",
       ".sk-estimator-doc-link:hover {\n",
       "  /* unfitted */\n",
       "  background-color: var(--sklearn-color-unfitted-level-3);\n",
       "  color: var(--sklearn-color-background);\n",
       "  text-decoration: none;\n",
       "}\n",
       "\n",
       "div.sk-estimator.fitted:hover .sk-estimator-doc-link.fitted:hover,\n",
       ".sk-estimator-doc-link.fitted:hover,\n",
       "div.sk-label-container:hover .sk-estimator-doc-link.fitted:hover,\n",
       ".sk-estimator-doc-link.fitted:hover {\n",
       "  /* fitted */\n",
       "  background-color: var(--sklearn-color-fitted-level-3);\n",
       "  color: var(--sklearn-color-background);\n",
       "  text-decoration: none;\n",
       "}\n",
       "\n",
       "/* Span, style for the box shown on hovering the info icon */\n",
       ".sk-estimator-doc-link span {\n",
       "  display: none;\n",
       "  z-index: 9999;\n",
       "  position: relative;\n",
       "  font-weight: normal;\n",
       "  right: .2ex;\n",
       "  padding: .5ex;\n",
       "  margin: .5ex;\n",
       "  width: min-content;\n",
       "  min-width: 20ex;\n",
       "  max-width: 50ex;\n",
       "  color: var(--sklearn-color-text);\n",
       "  box-shadow: 2pt 2pt 4pt #999;\n",
       "  /* unfitted */\n",
       "  background: var(--sklearn-color-unfitted-level-0);\n",
       "  border: .5pt solid var(--sklearn-color-unfitted-level-3);\n",
       "}\n",
       "\n",
       ".sk-estimator-doc-link.fitted span {\n",
       "  /* fitted */\n",
       "  background: var(--sklearn-color-fitted-level-0);\n",
       "  border: var(--sklearn-color-fitted-level-3);\n",
       "}\n",
       "\n",
       ".sk-estimator-doc-link:hover span {\n",
       "  display: block;\n",
       "}\n",
       "\n",
       "/* \"?\"-specific style due to the `<a>` HTML tag */\n",
       "\n",
       "#sk-container-id-1 a.estimator_doc_link {\n",
       "  float: right;\n",
       "  font-size: 1rem;\n",
       "  line-height: 1em;\n",
       "  font-family: monospace;\n",
       "  background-color: var(--sklearn-color-background);\n",
       "  border-radius: 1rem;\n",
       "  height: 1rem;\n",
       "  width: 1rem;\n",
       "  text-decoration: none;\n",
       "  /* unfitted */\n",
       "  color: var(--sklearn-color-unfitted-level-1);\n",
       "  border: var(--sklearn-color-unfitted-level-1) 1pt solid;\n",
       "}\n",
       "\n",
       "#sk-container-id-1 a.estimator_doc_link.fitted {\n",
       "  /* fitted */\n",
       "  border: var(--sklearn-color-fitted-level-1) 1pt solid;\n",
       "  color: var(--sklearn-color-fitted-level-1);\n",
       "}\n",
       "\n",
       "/* On hover */\n",
       "#sk-container-id-1 a.estimator_doc_link:hover {\n",
       "  /* unfitted */\n",
       "  background-color: var(--sklearn-color-unfitted-level-3);\n",
       "  color: var(--sklearn-color-background);\n",
       "  text-decoration: none;\n",
       "}\n",
       "\n",
       "#sk-container-id-1 a.estimator_doc_link.fitted:hover {\n",
       "  /* fitted */\n",
       "  background-color: var(--sklearn-color-fitted-level-3);\n",
       "}\n",
       "</style><div id=\"sk-container-id-1\" class=\"sk-top-container\"><div class=\"sk-text-repr-fallback\"><pre>LinearRegression()</pre><b>In a Jupyter environment, please rerun this cell to show the HTML representation or trust the notebook. <br />On GitHub, the HTML representation is unable to render, please try loading this page with nbviewer.org.</b></div><div class=\"sk-container\" hidden><div class=\"sk-item\"><div class=\"sk-estimator fitted sk-toggleable\"><input class=\"sk-toggleable__control sk-hidden--visually\" id=\"sk-estimator-id-1\" type=\"checkbox\" checked><label for=\"sk-estimator-id-1\" class=\"sk-toggleable__label fitted sk-toggleable__label-arrow\"><div><div>LinearRegression</div></div><div><a class=\"sk-estimator-doc-link fitted\" rel=\"noreferrer\" target=\"_blank\" href=\"https://scikit-learn.org/1.6/modules/generated/sklearn.linear_model.LinearRegression.html\">?<span>Documentation for LinearRegression</span></a><span class=\"sk-estimator-doc-link fitted\">i<span>Fitted</span></span></div></label><div class=\"sk-toggleable__content fitted\"><pre>LinearRegression()</pre></div> </div></div></div></div>"
      ],
      "text/plain": [
       "LinearRegression()"
      ]
     },
     "execution_count": 39,
     "metadata": {},
     "output_type": "execute_result"
    }
   ],
   "source": [
    "# Fit linear regression model\n",
    "model = linear_model.LinearRegression()\n",
    "model.fit(train_data, train_label)"
   ]
  },
  {
   "cell_type": "code",
   "execution_count": 40,
   "id": "e6b48027",
   "metadata": {},
   "outputs": [],
   "source": [
    "# Predict on test data\n",
    "predict_label = model.predict(test_data)"
   ]
  },
  {
   "cell_type": "code",
   "execution_count": 60,
   "id": "b8743882",
   "metadata": {},
   "outputs": [
    {
     "data": {
      "image/png": "[encoded data removed]",
      "text/plain": [
       "<Figure size 640x480 with 1 Axes>"
      ]
     },
     "metadata": {},
     "output_type": "display_data"
    }
   ],
   "source": [
    "# Scatter plot : predicted vs actual values\n",
    "plt.scatter(predict_label, test_label.values)\n",
    "\n",
    "plt.title('Predict & Real', fontdict={'size':15})\n",
    "plt.xlabel('Real')\n",
    "plt.ylabel('Predict')\n",
    "\n",
    "plt.xlim(-10, 3) \n",
    "plt.ylim(-10, 3)\n",
    "\n",
    "plt.plot(test_label, test_label, 'r-') \n",
    "plt.grid(alpha=0.3)\n",
    "plt.show()"
   ]
  },
  {
   "cell_type": "code",
   "execution_count": 42,
   "id": "c72a5702",
   "metadata": {},
   "outputs": [
    {
     "name": "stdout",
     "output_type": "stream",
     "text": [
      "R2 Score =  0.8428978371199276\n"
     ]
    }
   ],
   "source": [
    "# Evaluate model performance (R2 score)\n",
    "from sklearn import metrics\n",
    "print(\"R2 Score = \", metrics.r2_score(predict_label, test_label))"
   ]
  },
  {
   "cell_type": "code",
   "execution_count": 61,
   "id": "8b52bb53",
   "metadata": {},
   "outputs": [
    {
     "name": "stdout",
     "output_type": "stream",
     "text": [
      "Intercept: [-0.17681118]\n",
      "Coefficients:\n",
      " [[ 2.24985132e-01  9.80294028e-02 -1.11077197e-01 -4.51466605e-01\n",
      "  -4.34195635e-01  6.77915055e-02 -7.58042188e-02  2.90003901e-02\n",
      "  -5.78781730e-01  6.62895195e-01  1.39543367e-01 -1.15931807e-01\n",
      "  -4.66799720e-01  4.91842908e-01 -3.87798322e-01  7.08494107e-02\n",
      "  -1.73256340e-01 -4.83410418e-01  1.13100945e-01 -1.03054534e-02\n",
      "   1.07710835e-01 -4.25193781e-02 -4.69965219e-01 -5.58653920e-01\n",
      "   2.64052968e-01  3.39396741e-01  2.16091342e-03  5.88899677e-02\n",
      "  -5.51129552e-02 -1.84331104e-01  2.31147031e-01 -1.34065640e+00\n",
      "   8.92972433e-01 -3.77421242e-01 -1.72018039e-01 -2.11741237e-02\n",
      "   6.76899087e-02  2.45251459e-01 -2.07164131e-01  6.23375406e-01\n",
      "  -2.60976445e-01 -8.16471671e-02  5.39822713e-01 -4.21538120e-01\n",
      "   1.15982030e-01 -1.61288736e-01  6.37332953e-02  3.35803891e-01\n",
      "   4.87707528e-03 -1.41007012e-01  2.78547424e-01 -2.18228462e-01\n",
      "   2.02632805e-01 -3.09805353e-02 -2.76903845e-01 -2.95132011e-01\n",
      "  -3.38243368e-02  1.64608852e-01 -1.40218021e-01  2.88667285e-01\n",
      "  -6.19477894e-02 -1.96170125e-01  9.89123974e-01  2.51535443e-01\n",
      "  -2.14768072e-01  1.81491824e-01 -2.43787971e-01  1.73645788e-01\n",
      "  -4.12128463e-02  4.64369896e-02  1.55833469e-01  7.57895371e-01\n",
      "  -5.99298092e-01  2.34431030e-01  1.91884567e-01  4.48451804e-01\n",
      "   4.02304715e-02 -3.13161783e-01  5.26650161e-01  1.38854848e-01\n",
      "  -4.09726173e-01 -9.51355666e-02 -5.28145257e-01  4.11308446e-01\n",
      "  -4.22350855e-01 -1.44366653e-02 -4.65926685e-01  2.46584812e-01\n",
      "   2.67179631e-01 -1.91656776e-01  2.64730777e-01  4.19496496e-02\n",
      "   2.39586951e-01 -2.45976652e-01  1.62431096e-02 -2.29398952e-01\n",
      "  -4.10170744e-01 -2.94459287e-01  9.51492144e-02 -4.97502580e-01\n",
      "  -1.72853304e-01  1.04475851e-03 -1.72534350e-01 -2.05891082e-01\n",
      "  -1.67410661e-01 -5.82249701e-02  3.95530326e-01 -2.03288928e-01\n",
      "   7.10509042e-01  2.80556409e-01 -6.11581469e-01  1.98075524e-01\n",
      "   1.41147360e-01 -9.61028340e-02 -2.73950328e-01 -1.00688185e-01\n",
      "   3.66296121e-01 -1.69225706e-01  4.26405913e-01 -1.23822500e-01\n",
      "  -1.33177123e-01  1.71945973e-01 -7.19723369e-03  2.16309028e-01\n",
      "  -6.47681334e-02 -5.58091152e-01 -5.01823400e-01 -1.96766027e-01\n",
      "  -7.23828090e-02 -3.93563561e-01  1.60367278e-01 -1.03724811e-01\n",
      "  -2.89863057e-01 -1.28731749e-01  2.29904033e-01  2.64045123e-02\n",
      "  -2.82052017e-01 -4.92156868e-02 -3.67281496e-01  1.07716747e-01\n",
      "   2.28877394e-01  6.28415717e-01  7.97094127e-01  4.68088286e-01\n",
      "  -4.00654993e-01 -1.57754343e-01  1.63806452e-01 -2.49143491e-01\n",
      "  -4.40665788e-02  1.79140067e-02  1.94138003e-01 -3.79710303e-01\n",
      "   3.95150875e-03 -7.55211862e-01  2.32098396e-01 -4.29559873e-01\n",
      "  -5.76361596e-01  2.57975372e-01  2.21809783e-01  5.77884388e-02\n",
      "  -3.58828743e-01  2.87764278e-02  3.66637635e-01  6.54603201e-01\n",
      "   3.72731405e-01 -3.59498847e-03 -5.62418469e-01 -3.06138675e-02\n",
      "  -7.61008349e-02 -2.13854956e-01  3.75703660e-01 -3.05541543e-01\n",
      "   4.63485569e-01 -1.37177873e-01  6.80143466e-02  6.27685787e-01\n",
      "  -9.10526041e-02  2.92653121e-01 -1.33928384e-01 -6.08227641e-01\n",
      "   4.44814768e-01  6.12928130e-02  4.15721871e-01  3.74201547e-01\n",
      "  -2.00274333e-01 -1.92127063e-01  5.78079772e-01  1.79731421e-01\n",
      "  -3.86383855e-01  4.72236486e-02  2.12520212e-01 -2.59284153e-01\n",
      "   1.27512722e-01  2.09786950e-01  2.86179285e-02  4.57991547e-01\n",
      "   5.35631874e-02  4.57990581e-02 -9.08613713e-02 -1.07345903e-01\n",
      "  -4.34418682e-01  6.33655549e-01  4.32580320e-01 -2.42620848e-01\n",
      "   1.61416854e-01 -7.49637951e-02  9.32888300e-02 -7.01208351e-01\n",
      "  -4.51917694e-03 -8.19614731e-02 -2.23268741e-01  1.33565373e-02\n",
      "  -1.27950730e-01  1.47942495e-01 -2.00345819e-01  1.02236793e-01\n",
      "  -2.16206083e-01  1.41307268e-01  9.35108759e-02  1.03663207e+00\n",
      "   1.26050237e+00  1.09729179e-01 -3.99843091e-01  4.72696749e-01\n",
      "   9.53180104e-02  9.30357232e-02 -2.01469173e-02 -1.14611527e-03]]\n"
     ]
    }
   ],
   "source": [
    "# Coefficients\n",
    "print(\"Intercept:\", model.intercept_)\n",
    "print(\"Coefficients:\\n\", model.coef_)"
   ]
  },
  {
   "cell_type": "code",
   "execution_count": 45,
   "id": "64145abb",
   "metadata": {},
   "outputs": [
    {
     "name": "stdout",
     "output_type": "stream",
     "text": [
      "Formula : \n",
      "\n",
      "x  =  0.22498513226931702 * FP001 + 0.0980294028161522 * FP002 + -0.11107719746641496 * FP003 + -0.4514666052125146 * FP004 + -0.4341956353915994 * FP005 + 0.06779150554304526 * FP006 + -0.07580421877369967 * FP007 + 0.029000390084562126 * FP008 + -0.5787817303843575 * FP009 + 0.6628951947462863 * FP010 + 0.1395433666036704 * FP011 + -0.11593180658529137 * FP012 + -0.4667997200505823 * FP013 + 0.49184290814267173 * FP014 + -0.3877983215780526 * FP015 + 0.07084941069785308 * FP016 + -0.17325633982024435 * FP017 + -0.483410418090454 * FP018 + 0.1131009450589062 * FP019 + -0.01030545338601059 * FP020 + 0.10771083502511815 * FP021 + -0.04251937806529674 * FP022 + -0.4699652192257388 * FP023 + -0.5586539202991894 * FP024 + 0.2640529682447619 * FP025 + 0.3393967405724606 * FP026 + 0.0021609134211936776 * FP027 + 0.058889967672429475 * FP028 + -0.055112955213368786 * FP029 + -0.18433110418991372 * FP030 + 0.23114703110971568 * FP031 + -1.3406563980176651 * FP032 + 0.8929724326887236 * FP033 + -0.3774212421089088 * FP034 + -0.1720180394519259 * FP035 + -0.021174123688668972 * FP036 + 0.06768990869486971 * FP037 + 0.24525145932221687 * FP038 + -0.20716413085559537 * FP039 + 0.6233754064856699 * FP040 + -0.26097644501360096 * FP041 + -0.08164716714827401 * FP042 + 0.5398227126472744 * FP043 + -0.42153812048327816 * FP044 + 0.11598202956538795 * FP045 + -0.16128873630429652 * FP046 + 0.06373329529071467 * FP047 + 0.3358038910195149 * FP048 + 0.004877075283586524 * FP049 + -0.14100701154172207 * FP050 + 0.2785474240917803 * FP051 + -0.2182284624284007 * FP052 + 0.20263280451128332 * FP053 + -0.030980535250610935 * FP054 + -0.2769038448467781 * FP055 + -0.29513201058719596 * FP056 + -0.03382433684930411 * FP057 + 0.16460885225805952 * FP058 + -0.14021802107139814 * FP059 + 0.2886672845844542 * FP060 + -0.06194778935492637 * FP061 + -0.19617012473107548 * FP062 + 0.9891239743486493 * FP063 + 0.2515354434530274 * FP064 + -0.21476807184406593 * FP065 + 0.18149182448529033 * FP066 + -0.24378797115065956 * FP067 + 0.17364578781351442 * FP068 + -0.041212846343776866 * FP069 + 0.046436989559982454 * FP070 + 0.1558334694874403 * FP071 + 0.7578953710251088 * FP072 + -0.599298092266813 * FP073 + 0.2344310295872229 * FP074 + 0.19188456675155738 * FP075 + 0.4484518037843762 * FP076 + 0.04023047146690231 * FP077 + -0.3131617833517988 * FP078 + 0.5266501606748135 * FP079 + 0.1388548480077682 * FP080 + -0.4097261727832599 * FP081 + -0.09513556663953755 * FP082 + -0.5281452568510852 * FP083 + 0.4113084456885219 * FP084 + -0.42235085536993094 * FP085 + -0.014436665312065361 * FP086 + -0.4659266845638887 * FP087 + 0.24658481189402826 * FP088 + 0.26717963094211045 * FP089 + -0.19165677606178616 * FP090 + 0.26473077736240247 * FP091 + 0.041949649628596986 * FP092 + 0.23958695134594743 * FP093 + -0.24597665187602585 * FP094 + 0.01624310963335865 * FP095 + -0.2293989515479611 * FP096 + -0.41017074436893536 * FP097 + -0.2944592866128026 * FP098 + 0.09514921441430181 * FP099 + -0.497502580324069 * FP100 + -0.1728533041225946 * FP101 + 0.0010447585072297094 * FP102 + -0.17253434968108589 * FP103 + -0.20589108209704654 * FP104 + -0.16741066105560587 * FP105 + -0.05822497012449129 * FP106 + 0.39553032616606 * FP107 + -0.20328892766864812 * FP108 + 0.7105090418649895 * FP109 + 0.28055640928930664 * FP110 + -0.6115814691502697 * FP111 + 0.1980755236433024 * FP112 + 0.1411473603624423 * FP113 + -0.09610283403089906 * FP114 + -0.2739503283504849 * FP115 + -0.10068818478044836 * FP116 + 0.3662961205477256 * FP117 + -0.16922570639309406 * FP118 + 0.426405913009205 * FP119 + -0.12382249979003464 * FP120 + -0.1331771228529599 * FP121 + 0.1719459733559975 * FP122 + -0.007197233692817981 * FP123 + 0.21630902788510747 * FP124 + -0.06476813344691847 * FP125 + -0.5580911518003103 * FP126 + -0.501823399578201 * FP127 + -0.19676602653837788 * FP128 + -0.07238280897429566 * FP129 + -0.3935635609813543 * FP130 + 0.16036727752884586 * FP131 + -0.10372481069997327 * FP132 + -0.28986305737300877 * FP133 + -0.12873174850470304 * FP134 + 0.22990403344197952 * FP135 + 0.026404512343024884 * FP136 + -0.2820520172445662 * FP137 + -0.049215686846924636 * FP138 + -0.36728149572102503 * FP139 + 0.10771674684559042 * FP140 + 0.22887739391803222 * FP141 + 0.6284157172661378 * FP142 + 0.7970941266294462 * FP143 + 0.4680882861831653 * FP144 + -0.40065499298098123 * FP145 + -0.15775434284562007 * FP146 + 0.16380645167913663 * FP147 + -0.24914349116187787 * FP148 + -0.04406657878924186 * FP149 + 0.017914006671946647 * FP150 + 0.19413800320357968 * FP151 + -0.37971030255272004 * FP152 + 0.003951508753787221 * FP153 + -0.7552118622298896 * FP154 + 0.23209839551962153 * FP155 + -0.4295598731135815 * FP156 + -0.5763615964321978 * FP157 + 0.25797537221911826 * FP158 + 0.22180978280716318 * FP159 + 0.057788438793090875 * FP160 + -0.3588287426287623 * FP161 + 0.02877642784656212 * FP162 + 0.366637635101 * FP163 + 0.6546032012329762 * FP164 + 0.37273140518771086 * FP165 + -0.003594988471548044 * FP166 + -0.5624184688244789 * FP167 + -0.03061386751793818 * FP168 + -0.07610083493582467 * FP169 + -0.2138549561337913 * FP170 + 0.3757036601103172 * FP171 + -0.3055415431154819 * FP172 + 0.4634855688692896 * FP173 + -0.1371778733746526 * FP174 + 0.06801434660847508 * FP175 + 0.6276857873037873 * FP176 + -0.09105260412244057 * FP177 + 0.2926531212067992 * FP178 + -0.13392838428214504 * FP179 + -0.608227640865918 * FP180 + 0.4448147684031417 * FP181 + 0.06129281303845391 * FP182 + 0.41572187143830036 * FP183 + 0.3742015473785823 * FP184 + -0.20027433330963407 * FP185 + -0.19212706300658977 * FP186 + 0.5780797719880643 * FP187 + 0.17973142138281265 * FP188 + -0.38638385496944627 * FP189 + 0.04722364860810392 * FP190 + 0.2125202116174498 * FP191 + -0.2592841527142848 * FP192 + 0.1275127224827741 * FP193 + 0.209786949814409 * FP194 + 0.028617928481840083 * FP195 + 0.45799154697520045 * FP196 + 0.05356318739209984 * FP197 + 0.04579905813922204 * FP198 + -0.09086137134270375 * FP199 + -0.107345903307539 * FP200 + -0.43441868201231426 * FP201 + 0.6336555488437163 * FP202 + 0.4325803202190098 * FP203 + -0.24262084801655448 * FP204 + 0.16141685365434805 * FP205 + -0.07496379511328734 * FP206 + 0.0932888300279693 * FP207 + -0.701208351497629 * FP208 + -0.004519176936079616 * MolWeight + -0.08196147309253976 * NumAtoms + -0.22326874067782898 * NumNonHAtoms + 0.013356537295046739 * NumBonds + -0.1279507302902913 * NumNonHBonds + 0.14794249532457135 * NumMultBonds + -0.20034581939824347 * NumRotBonds + 0.10223679303977734 * NumDblBonds + -0.21620608278497758 * NumAromaticBonds + 0.14130726758536788 * NumHydrogen + 0.09351087590858878 * NumCarbon + 1.0366320716323358 * NumNitrogen + 1.2605023708912229 * NumOxygen + 0.10972917936140786 * NumSulfer + -0.3998430912210897 * NumChlorine + 0.472696748910032 * NumHalogen + 0.09531801038758558 * NumRings + 0.09303572315808534 * HydrophilicFactor + -0.020146917308243237 * SurfaceArea1 + -0.0011461152676892072 * SurfaceArea2 + -0.17681118040480737\n"
     ]
    }
   ],
   "source": [
    "# Build regression formula string\n",
    "col_x = train_data.columns\n",
    "col_y = train_label.columns\n",
    "formul = \"\"\n",
    "for i in range(0, len(model.coef_.reshape(-1))) :\n",
    "    if model.coef_.reshape(-1)[i] != 0 :\n",
    "        formul += str(model.coef_.reshape(-1)[i]) + \" * \" + col_x[i] + \" + \"\n",
    "\n",
    "print(\"Formula : \\n\")\n",
    "print(col_y[0], \" = \", formul[:-3], '+', model.intercept_[0])"
   ]
  },
  {
   "cell_type": "markdown",
   "id": "e093ef09",
   "metadata": {},
   "source": [
    "## 3.2 The QR factorization"
   ]
  },
  {
   "cell_type": "markdown",
   "id": "24d46035",
   "metadata": {},
   "source": [
    "### 3.2.2 Gram-Schmidt Orthogonazlization"
   ]
  },
  {
   "cell_type": "code",
   "execution_count": 65,
   "id": "6e603ab6",
   "metadata": {},
   "outputs": [],
   "source": [
    "# Import library\n",
    "import numpy as np\n",
    "from scipy import linalg\n",
    "import matplotlib.pyplot as plt"
   ]
  },
  {
   "cell_type": "code",
   "execution_count": 66,
   "id": "ef5d44ce",
   "metadata": {},
   "outputs": [],
   "source": [
    "# Create random matrix \n",
    "m = 4\n",
    "n = 4\n",
    "A = np.random.randn(m,n)\n",
    "\n",
    "# initialize Q matrix for Gram-Schmidt\n",
    "Q = np.zeros((m,n))\n",
    "\n",
    "\n",
    "# Classical Gram-Schmidt (QR decomposition)\n",
    "for i in range(n):\n",
    "    # initialize\n",
    "    Q[:,i] = A[:,i]\n",
    "    \n",
    "    # orthogonalize\n",
    "    a = A[:,i] # convenience\n",
    "    for j in range(i): # only to earlier cols\n",
    "        q = Q[:,j] # convenience\n",
    "        Q[:,i]=Q[:,i]-np.dot(a,q)/np.dot(q,q)*q\n",
    "    \n",
    "    # normalize\n",
    "    Q[:,i] = Q[:,i] / np.linalg.norm(Q[:,i])"
   ]
  },
  {
   "cell_type": "code",
   "execution_count": 68,
   "id": "fc9f3a32",
   "metadata": {},
   "outputs": [
    {
     "data": {
      "text/plain": [
       "array([[ 1.53048928e-01,  1.06437629e+00,  1.52707033e+00,\n",
       "        -7.32747196e-15],\n",
       "       [-1.50572401e+00,  3.30119547e-01,  4.74776379e-01,\n",
       "         3.66373598e-15],\n",
       "       [-1.30263289e+00, -3.95085047e-01, -2.68830154e-01,\n",
       "         5.55111512e-15],\n",
       "       [-1.11887400e-01,  1.61308153e+00, -1.17062972e+00,\n",
       "         1.21500032e-14]])"
      ]
     },
     "execution_count": 68,
     "metadata": {},
     "output_type": "execute_result"
    }
   ],
   "source": [
    "# Compare with built-in QR\n",
    "Q2,R = np.linalg.qr(A)\n",
    "\n",
    "# Q - Q2 shows differences (only up to sign, since Q is unique up to ±1 on each column)\n",
    "Q-Q2"
   ]
  },
  {
   "cell_type": "code",
   "execution_count": 70,
   "id": "46b3d9cb",
   "metadata": {},
   "outputs": [],
   "source": [
    "# Leat squares fitting example\n",
    "c1, c2 = 5.0, 2.0\n",
    "i = np.r_[1:11]\n",
    "i\n",
    "xi = 0.1*i\n",
    "yi = c1*np.exp(-xi) + c2*xi\n",
    "zi = yi + 0.05 * np.max(yi) * np.random.randn(len(yi))"
   ]
  },
  {
   "cell_type": "code",
   "execution_count": null,
   "id": "ea2c3a01",
   "metadata": {},
   "outputs": [],
   "source": [
    "# Design matrix: first column exp(-x1), second column xi\n",
    "A = np.c_[np.exp(-xi)[:, np.newaxis], xi[:, np.newaxis]] "
   ]
  },
  {
   "cell_type": "code",
   "execution_count": 72,
   "id": "17410c18",
   "metadata": {},
   "outputs": [],
   "source": [
    "# Solve least squares problem\n",
    "c, resid, rank, sigma = linalg.lstsq(A, zi) "
   ]
  },
  {
   "cell_type": "code",
   "execution_count": 73,
   "id": "5ee50eff",
   "metadata": {},
   "outputs": [],
   "source": [
    "# Evaluate fitted curve\n",
    "xi2 = np.r_[0.1:1.0:100j]\n",
    "yi2 = c[0]*np.exp(-xi2) + c[1]*xi2"
   ]
  },
  {
   "cell_type": "code",
   "execution_count": 74,
   "id": "c80256d4",
   "metadata": {},
   "outputs": [
    {
     "data": {
      "image/png": "[encoded data removed]",
      "text/plain": [
       "<Figure size 640x480 with 1 Axes>"
      ]
     },
     "metadata": {},
     "output_type": "display_data"
    }
   ],
   "source": [
    "# Plot data & fitted curve\n",
    "plt.plot(xi,zi,'x',xi2,yi2)\n",
    "plt.axis([0,1.1,3.0,5.5])\n",
    "plt.xlabel('$x_i$')\n",
    "plt.title('Data fitting with linalg.lstsq')\n",
    "plt.show()"
   ]
  },
  {
   "cell_type": "code",
   "execution_count": 75,
   "id": "771b7243",
   "metadata": {},
   "outputs": [
    {
     "name": "stdout",
     "output_type": "stream",
     "text": [
      "Check A ≈ QR: True\n",
      "Shapes: (10, 2) (10, 10) (10, 2)\n"
     ]
    }
   ],
   "source": [
    "# QR decoomposition for least squares\n",
    "\n",
    "# Full QR decomposition of design matrix A\n",
    "q, r = linalg.qr(A)\n",
    "print(\"Check A ≈ QR:\", np.allclose(A, np.dot(q, r)))\n",
    "print(\"Shapes:\", A.shape, q.shape, r.shape)"
   ]
  },
  {
   "cell_type": "code",
   "execution_count": null,
   "id": "df64cc59",
   "metadata": {},
   "outputs": [
    {
     "name": "stdout",
     "output_type": "stream",
     "text": [
      "True\n"
     ]
    }
   ],
   "source": [
    "# Mode='r': return only R\n",
    "r2 = linalg.qr(A, mode='r')\n",
    "print(\"R only (mode='r') matches full R:\", np.allclose(r, r2))"
   ]
  },
  {
   "cell_type": "code",
   "execution_count": 78,
   "id": "bbb01b66",
   "metadata": {},
   "outputs": [
    {
     "name": "stdout",
     "output_type": "stream",
     "text": [
      "Reduced shapes: (10, 2) (2, 2)\n"
     ]
    }
   ],
   "source": [
    "# Mode='economic': reduced-size Q, R\n",
    "q3, r3 = linalg.qr(A, mode='economic')\n",
    "print(\"Reduced shapes:\", q3.shape, r3.shape)"
   ]
  },
  {
   "cell_type": "code",
   "execution_count": 82,
   "id": "f2af85e6",
   "metadata": {},
   "outputs": [
    {
     "name": "stdout",
     "output_type": "stream",
     "text": [
      "Solution via reduced QR: [4.95043421 1.95868874]\n",
      "Solution via lstsq: [4.95043421 1.95868874]\n"
     ]
    }
   ],
   "source": [
    "# Solve least squares using reduced QR\n",
    "rhs = q3.T @ zi\n",
    "x = np.linalg.solve(r3, rhs)\n",
    "\n",
    "print(\"Solution via reduced QR:\", x)\n",
    "print(\"Solution via lstsq:\", c)"
   ]
  }
 ],
 "metadata": {
  "kernelspec": {
   "display_name": "Python (.venv)",
   "language": "python",
   "name": ".venv"
  },
  "language_info": {
   "codemirror_mode": {
    "name": "ipython",
    "version": 3
   },
   "file_extension": ".py",
   "mimetype": "text/x-python",
   "name": "python",
   "nbconvert_exporter": "python",
   "pygments_lexer": "ipython3",
   "version": "3.9.6"
  }
 },
 "nbformat": 4,
 "nbformat_minor": 5
}
