{
 "cells": [
  {
   "cell_type": "markdown",
   "id": "0bf0496f",
   "metadata": {},
   "source": [
    "# Ch2. Vector Spaces and Norms"
   ]
  },
  {
   "cell_type": "markdown",
   "id": "24d519c2",
   "metadata": {},
   "source": [
    "## 2.1 Vector Spaces"
   ]
  },
  {
   "cell_type": "code",
   "execution_count": 20,
   "id": "26dd6860",
   "metadata": {},
   "outputs": [],
   "source": [
    "# Import library\n",
    "import numpy as np"
   ]
  },
  {
   "cell_type": "code",
   "execution_count": 21,
   "id": "1683c586",
   "metadata": {},
   "outputs": [
    {
     "name": "stdout",
     "output_type": "stream",
     "text": [
      "Linear combination: [ 2 -3]\n"
     ]
    }
   ],
   "source": [
    "# Subspace & linear combination\n",
    "v1 = np.array([1, 0])\n",
    "v2 = np.array([0, 1])\n",
    "a, b = 2, -3\n",
    "lin_comb = a*v1 + b*v2  \n",
    "print(\"Linear combination:\", lin_comb)  "
   ]
  },
  {
   "cell_type": "markdown",
   "id": "15fd3ba7",
   "metadata": {},
   "source": [
    "## 2.2 Inner products and Norms"
   ]
  },
  {
   "cell_type": "markdown",
   "id": "72c3d2c4",
   "metadata": {},
   "source": [
    "### 2.2.1 Inner products"
   ]
  },
  {
   "cell_type": "code",
   "execution_count": 22,
   "id": "4bc0b87d",
   "metadata": {},
   "outputs": [
    {
     "name": "stdout",
     "output_type": "stream",
     "text": [
      "Inner product: 0\n",
      "Orthogonal? True\n"
     ]
    }
   ],
   "source": [
    "# Inner product & orthogonalitty\n",
    "x = np.array([1, 2, 3])\n",
    "y = np.array([-3, 0, 1])\n",
    "dot = np.dot(x, y)\n",
    "print(\"Inner product:\", dot)\n",
    "print(\"Orthogonal?\", np.isclose(dot, 0))"
   ]
  },
  {
   "cell_type": "code",
   "execution_count": 23,
   "id": "dd5214d6",
   "metadata": {},
   "outputs": [
    {
     "name": "stdout",
     "output_type": "stream",
     "text": [
      "Cauchy-Schwarz holds? True\n"
     ]
    }
   ],
   "source": [
    "# Caushy-Schwarz inequality\n",
    "lhs = abs(np.dot(x, y))\n",
    "rhs = np.linalg.norm(x) * np.linalg.norm(y)\n",
    "print(\"Cauchy-Schwarz holds?\", lhs <= rhs)"
   ]
  },
  {
   "cell_type": "markdown",
   "id": "d611240b",
   "metadata": {},
   "source": [
    "### 2.2.2 Norms"
   ]
  },
  {
   "cell_type": "code",
   "execution_count": 24,
   "id": "12a0353f",
   "metadata": {},
   "outputs": [
    {
     "name": "stdout",
     "output_type": "stream",
     "text": [
      "L1 norm: 7.0\n",
      "Euclidean norm: 5.0\n",
      "Max norm: 4.0\n"
     ]
    }
   ],
   "source": [
    "# Vector norms\n",
    "z = np.array([3, -4])\n",
    "print(\"L1 norm:\", np.linalg.norm(z, 1))  \n",
    "print(\"Euclidean norm:\", np.linalg.norm(z, 2)) \n",
    "print(\"Max norm:\", np.linalg.norm(z, np.inf))"
   ]
  },
  {
   "cell_type": "code",
   "execution_count": 25,
   "id": "0bf43f10",
   "metadata": {},
   "outputs": [
    {
     "name": "stdout",
     "output_type": "stream",
     "text": [
      "Frobenius norm: 5.48\n",
      "Spectral norm: 5.12\n"
     ]
    }
   ],
   "source": [
    "# Matrix norms\n",
    "A = np.array([[1, -2],\n",
    "              [3,  4]])\n",
    "\n",
    "fro = np.linalg.norm(A, 'fro')     # Frobenius norm\n",
    "spec = np.linalg.norm(A, 2)        # Spectral norm \n",
    "\n",
    "print(\"Frobenius norm:\", round(fro, 2))\n",
    "print(\"Spectral norm:\", round(spec, 2))"
   ]
  },
  {
   "cell_type": "markdown",
   "id": "0d87ed38",
   "metadata": {},
   "source": [
    "## 2.3 Fundamenetal Theorem of Linear Algebra"
   ]
  },
  {
   "cell_type": "markdown",
   "id": "79cf13e5",
   "metadata": {},
   "source": [
    "### 2.3.1 Fundamental Theorem of Linear Algebra"
   ]
  },
  {
   "cell_type": "code",
   "execution_count": 26,
   "id": "5a9c0992",
   "metadata": {},
   "outputs": [],
   "source": [
    "# Import library\n",
    "import numpy as np\n",
    "from scipy.linalg import null_space\n",
    "from numpy.linalg import matrix_rank"
   ]
  },
  {
   "cell_type": "code",
   "execution_count": 27,
   "id": "ab4d59ef",
   "metadata": {},
   "outputs": [
    {
     "name": "stdout",
     "output_type": "stream",
     "text": [
      "Matrix A:\n",
      " [[1 2 3]\n",
      " [4 5 6]\n",
      " [7 8 9]]\n",
      "Null space basis:\n",
      " [[-0.40824829]\n",
      " [ 0.81649658]\n",
      " [-0.40824829]]\n",
      "Left null space basis:\n",
      " [[ 0.40824829]\n",
      " [-0.81649658]\n",
      " [ 0.40824829]]\n"
     ]
    }
   ],
   "source": [
    "# Create matrix\n",
    "A = np.array([[1, 2, 3],\n",
    "              [4, 5, 6],\n",
    "              [7, 8, 9]])\n",
    "\n",
    "# Column space (span of columns)\n",
    "col_space = A\n",
    "\n",
    "# Null space\n",
    "N = null_space(A)\n",
    "\n",
    "# Row space = span of rows\n",
    "row_space = A.T\n",
    "\n",
    "# Left null space = null space of A^T\n",
    "left_null = null_space(A.T)\n",
    "\n",
    "print(\"Matrix A:\\n\", A)\n",
    "print(\"Null space basis:\\n\", N)\n",
    "print(\"Left null space basis:\\n\", left_null)"
   ]
  },
  {
   "cell_type": "code",
   "execution_count": 28,
   "id": "754fd703",
   "metadata": {},
   "outputs": [
    {
     "name": "stdout",
     "output_type": "stream",
     "text": [
      "rank(A) = 2\n",
      "rank(B) = 1\n",
      "rank(A+B) = 2\n"
     ]
    }
   ],
   "source": [
    "# Property of rank\n",
    "\n",
    "# Create matrix\n",
    "B = np.array([[1, 2, 3],\n",
    "              [2, 4, 6],\n",
    "              [3, 6, 9]])\n",
    "\n",
    "# Compute ranks\n",
    "rank_A = matrix_rank(A)\n",
    "rank_B = matrix_rank(B)\n",
    "rank_AplusB = matrix_rank(A+B)\n",
    "\n",
    "print(\"rank(A) =\", rank_A)\n",
    "print(\"rank(B) =\", rank_B)\n",
    "print(\"rank(A+B) =\", rank_AplusB)"
   ]
  },
  {
   "cell_type": "code",
   "execution_count": 29,
   "id": "c79c7f30",
   "metadata": {},
   "outputs": [
    {
     "name": "stdout",
     "output_type": "stream",
     "text": [
      "Check: rank(A+B) ≤ rank(A) + rank(B) ?\n",
      "2 ≤ 3\n"
     ]
    }
   ],
   "source": [
    "# Check inequality\n",
    "print(\"Check: rank(A+B) ≤ rank(A) + rank(B) ?\")\n",
    "print(f\"{rank_AplusB} ≤ {rank_A + rank_B}\")"
   ]
  }
 ],
 "metadata": {
  "kernelspec": {
   "display_name": "Python (.venv)",
   "language": "python",
   "name": ".venv"
  },
  "language_info": {
   "codemirror_mode": {
    "name": "ipython",
    "version": 3
   },
   "file_extension": ".py",
   "mimetype": "text/x-python",
   "name": "python",
   "nbconvert_exporter": "python",
   "pygments_lexer": "ipython3",
   "version": "3.9.6"
  }
 },
 "nbformat": 4,
 "nbformat_minor": 5
}
